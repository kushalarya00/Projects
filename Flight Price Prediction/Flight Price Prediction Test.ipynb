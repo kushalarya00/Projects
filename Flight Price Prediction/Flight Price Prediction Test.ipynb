{
 "cells": [
  {
   "cell_type": "markdown",
   "id": "79fedeb6",
   "metadata": {},
   "source": [
    "### Importing Required Library"
   ]
  },
  {
   "cell_type": "code",
   "execution_count": 1,
   "id": "9f4eb48c",
   "metadata": {},
   "outputs": [],
   "source": [
    "import pandas as pd \n",
    "import numpy as np\n",
    "import matplotlib.pyplot as plt\n",
    "import seaborn as sns\n",
    "import pickle \n",
    "import datetime\n",
    "pd.set_option('Display.max_columns', None)\n",
    "from sklearn.preprocessing import StandardScaler, LabelEncoder\n",
    "from sklearn.model_selection import train_test_split\n",
    "%matplotlib inline\n",
    "\n",
    "import warnings\n",
    "warnings.filterwarnings('ignore')"
   ]
  },
  {
   "cell_type": "markdown",
   "id": "4c91a7de",
   "metadata": {},
   "source": [
    "### Reading Data"
   ]
  },
  {
   "cell_type": "code",
   "execution_count": 2,
   "id": "b3bd1aea",
   "metadata": {},
   "outputs": [
    {
     "data": {
      "text/html": [
       "<div>\n",
       "<style scoped>\n",
       "    .dataframe tbody tr th:only-of-type {\n",
       "        vertical-align: middle;\n",
       "    }\n",
       "\n",
       "    .dataframe tbody tr th {\n",
       "        vertical-align: top;\n",
       "    }\n",
       "\n",
       "    .dataframe thead th {\n",
       "        text-align: right;\n",
       "    }\n",
       "</style>\n",
       "<table border=\"1\" class=\"dataframe\">\n",
       "  <thead>\n",
       "    <tr style=\"text-align: right;\">\n",
       "      <th></th>\n",
       "      <th>Airline</th>\n",
       "      <th>Date_of_Journey</th>\n",
       "      <th>Source</th>\n",
       "      <th>Destination</th>\n",
       "      <th>Route</th>\n",
       "      <th>Dep_Time</th>\n",
       "      <th>Arrival_Time</th>\n",
       "      <th>Duration</th>\n",
       "      <th>Total_Stops</th>\n",
       "      <th>Additional_Info</th>\n",
       "    </tr>\n",
       "  </thead>\n",
       "  <tbody>\n",
       "    <tr>\n",
       "      <th>0</th>\n",
       "      <td>Jet Airways</td>\n",
       "      <td>6/06/2019</td>\n",
       "      <td>Delhi</td>\n",
       "      <td>Cochin</td>\n",
       "      <td>DEL → BOM → COK</td>\n",
       "      <td>17:30</td>\n",
       "      <td>04:25 07 Jun</td>\n",
       "      <td>10h 55m</td>\n",
       "      <td>1 stop</td>\n",
       "      <td>No info</td>\n",
       "    </tr>\n",
       "    <tr>\n",
       "      <th>1</th>\n",
       "      <td>IndiGo</td>\n",
       "      <td>12/05/2019</td>\n",
       "      <td>Kolkata</td>\n",
       "      <td>Banglore</td>\n",
       "      <td>CCU → MAA → BLR</td>\n",
       "      <td>06:20</td>\n",
       "      <td>10:20</td>\n",
       "      <td>4h</td>\n",
       "      <td>1 stop</td>\n",
       "      <td>No info</td>\n",
       "    </tr>\n",
       "    <tr>\n",
       "      <th>2</th>\n",
       "      <td>Jet Airways</td>\n",
       "      <td>21/05/2019</td>\n",
       "      <td>Delhi</td>\n",
       "      <td>Cochin</td>\n",
       "      <td>DEL → BOM → COK</td>\n",
       "      <td>19:15</td>\n",
       "      <td>19:00 22 May</td>\n",
       "      <td>23h 45m</td>\n",
       "      <td>1 stop</td>\n",
       "      <td>In-flight meal not included</td>\n",
       "    </tr>\n",
       "    <tr>\n",
       "      <th>3</th>\n",
       "      <td>Multiple carriers</td>\n",
       "      <td>21/05/2019</td>\n",
       "      <td>Delhi</td>\n",
       "      <td>Cochin</td>\n",
       "      <td>DEL → BOM → COK</td>\n",
       "      <td>08:00</td>\n",
       "      <td>21:00</td>\n",
       "      <td>13h</td>\n",
       "      <td>1 stop</td>\n",
       "      <td>No info</td>\n",
       "    </tr>\n",
       "    <tr>\n",
       "      <th>4</th>\n",
       "      <td>Air Asia</td>\n",
       "      <td>24/06/2019</td>\n",
       "      <td>Banglore</td>\n",
       "      <td>Delhi</td>\n",
       "      <td>BLR → DEL</td>\n",
       "      <td>23:55</td>\n",
       "      <td>02:45 25 Jun</td>\n",
       "      <td>2h 50m</td>\n",
       "      <td>non-stop</td>\n",
       "      <td>No info</td>\n",
       "    </tr>\n",
       "  </tbody>\n",
       "</table>\n",
       "</div>"
      ],
      "text/plain": [
       "             Airline Date_of_Journey    Source Destination            Route  \\\n",
       "0        Jet Airways       6/06/2019     Delhi      Cochin  DEL → BOM → COK   \n",
       "1             IndiGo      12/05/2019   Kolkata    Banglore  CCU → MAA → BLR   \n",
       "2        Jet Airways      21/05/2019     Delhi      Cochin  DEL → BOM → COK   \n",
       "3  Multiple carriers      21/05/2019     Delhi      Cochin  DEL → BOM → COK   \n",
       "4           Air Asia      24/06/2019  Banglore       Delhi        BLR → DEL   \n",
       "\n",
       "  Dep_Time  Arrival_Time Duration Total_Stops              Additional_Info  \n",
       "0    17:30  04:25 07 Jun  10h 55m      1 stop                      No info  \n",
       "1    06:20         10:20       4h      1 stop                      No info  \n",
       "2    19:15  19:00 22 May  23h 45m      1 stop  In-flight meal not included  \n",
       "3    08:00         21:00      13h      1 stop                      No info  \n",
       "4    23:55  02:45 25 Jun   2h 50m    non-stop                      No info  "
      ]
     },
     "execution_count": 2,
     "metadata": {},
     "output_type": "execute_result"
    }
   ],
   "source": [
    "df = pd.read_excel(r\"C:\\Users\\Kushal Arya\\Desktop\\csv file\\Flight_Ticket_Participant_Datasets\\Test_set.xlsx\")\n",
    "df.head()"
   ]
  },
  {
   "cell_type": "markdown",
   "id": "a926ac3e",
   "metadata": {},
   "source": [
    "### Check no of row and column"
   ]
  },
  {
   "cell_type": "code",
   "execution_count": 3,
   "id": "2be40211",
   "metadata": {},
   "outputs": [
    {
     "name": "stdout",
     "output_type": "stream",
     "text": [
      "No of Rows and Columns -----> (2671, 10)\n"
     ]
    }
   ],
   "source": [
    "print('No of Rows and Columns ----->', df.shape )"
   ]
  },
  {
   "cell_type": "markdown",
   "id": "34b3f60b",
   "metadata": {},
   "source": [
    "### Checking for Null values"
   ]
  },
  {
   "cell_type": "code",
   "execution_count": 4,
   "id": "2305d581",
   "metadata": {},
   "outputs": [
    {
     "name": "stdout",
     "output_type": "stream",
     "text": [
      "================================\n",
      "\n",
      "Airline            0\n",
      "Date_of_Journey    0\n",
      "Source             0\n",
      "Destination        0\n",
      "Route              0\n",
      "Dep_Time           0\n",
      "Arrival_Time       0\n",
      "Duration           0\n",
      "Total_Stops        0\n",
      "Additional_Info    0\n",
      "dtype: int64\n",
      "\n",
      "================================\n"
     ]
    }
   ],
   "source": [
    "print('================================\\n')\n",
    "print(df.isnull().sum())\n",
    "print('\\n================================')"
   ]
  },
  {
   "cell_type": "markdown",
   "id": "4e0136d2",
   "metadata": {},
   "source": [
    "#### There is no null value"
   ]
  },
  {
   "cell_type": "markdown",
   "id": "7165dea7",
   "metadata": {},
   "source": [
    "### Information about dataset"
   ]
  },
  {
   "cell_type": "code",
   "execution_count": 5,
   "id": "d890aab6",
   "metadata": {},
   "outputs": [
    {
     "name": "stdout",
     "output_type": "stream",
     "text": [
      "==================================================\n",
      "\n",
      "<class 'pandas.core.frame.DataFrame'>\n",
      "RangeIndex: 2671 entries, 0 to 2670\n",
      "Data columns (total 10 columns):\n",
      " #   Column           Non-Null Count  Dtype \n",
      "---  ------           --------------  ----- \n",
      " 0   Airline          2671 non-null   object\n",
      " 1   Date_of_Journey  2671 non-null   object\n",
      " 2   Source           2671 non-null   object\n",
      " 3   Destination      2671 non-null   object\n",
      " 4   Route            2671 non-null   object\n",
      " 5   Dep_Time         2671 non-null   object\n",
      " 6   Arrival_Time     2671 non-null   object\n",
      " 7   Duration         2671 non-null   object\n",
      " 8   Total_Stops      2671 non-null   object\n",
      " 9   Additional_Info  2671 non-null   object\n",
      "dtypes: object(10)\n",
      "memory usage: 208.8+ KB\n",
      "None\n",
      "====================================================\n"
     ]
    }
   ],
   "source": [
    "print('==================================================\\n')\n",
    "print(df.info())\n",
    "print('====================================================')"
   ]
  },
  {
   "cell_type": "markdown",
   "id": "6a0e1b8d",
   "metadata": {},
   "source": [
    "#### Categorical data present in our data set"
   ]
  },
  {
   "cell_type": "markdown",
   "id": "10e23686",
   "metadata": {},
   "source": [
    "### Checking For Duplicate"
   ]
  },
  {
   "cell_type": "code",
   "execution_count": 6,
   "id": "315b5509",
   "metadata": {},
   "outputs": [
    {
     "name": "stdout",
     "output_type": "stream",
     "text": [
      "==========================================================================\n",
      "Duplicate Rows :\n",
      "\n",
      "                 Airline Date_of_Journey    Source Destination  \\\n",
      "294         Jet Airways      12/06/2019     Delhi      Cochin   \n",
      "794         Jet Airways      12/06/2019     Delhi      Cochin   \n",
      "909              IndiGo      24/03/2019  Banglore   New Delhi   \n",
      "974           Air India      12/06/2019   Kolkata    Banglore   \n",
      "1011        Jet Airways       9/05/2019     Delhi      Cochin   \n",
      "1033  Multiple carriers      15/05/2019     Delhi      Cochin   \n",
      "1044              GoAir      24/03/2019  Banglore   New Delhi   \n",
      "1233        Jet Airways       6/06/2019     Delhi      Cochin   \n",
      "1504          Air India      15/06/2019     Delhi      Cochin   \n",
      "1537        Jet Airways       6/06/2019     Delhi      Cochin   \n",
      "1752  Multiple carriers      21/05/2019     Delhi      Cochin   \n",
      "1753        Jet Airways      18/05/2019     Delhi      Cochin   \n",
      "1783          Air India      12/03/2019  Banglore   New Delhi   \n",
      "1876          Air India       1/04/2019   Kolkata    Banglore   \n",
      "1962  Multiple carriers      15/06/2019     Delhi      Cochin   \n",
      "2007        Jet Airways      24/06/2019     Delhi      Cochin   \n",
      "2042          Air India      09/03/2019  Banglore   New Delhi   \n",
      "2083          Air India      15/06/2019     Delhi      Cochin   \n",
      "2095        Jet Airways       1/06/2019     Delhi      Cochin   \n",
      "2171        Jet Airways      21/05/2019     Delhi      Cochin   \n",
      "2310        Jet Airways      27/03/2019     Delhi      Cochin   \n",
      "2536          Air India       3/06/2019     Delhi      Cochin   \n",
      "2553        Jet Airways      15/06/2019     Delhi      Cochin   \n",
      "2560  Multiple carriers       3/06/2019     Delhi      Cochin   \n",
      "2582          Air India      12/05/2019   Kolkata    Banglore   \n",
      "2583             IndiGo      24/03/2019  Banglore   New Delhi   \n",
      "\n",
      "                      Route Dep_Time  Arrival_Time Duration Total_Stops  \\\n",
      "294   DEL → JAI → BOM → COK    05:30  04:25 13 Jun  22h 55m     2 stops   \n",
      "794   DEL → JAI → BOM → COK    05:30  04:25 13 Jun  22h 55m     2 stops   \n",
      "909               BLR → DEL    20:00         22:55   2h 55m    non-stop   \n",
      "974   CCU → DEL → AMD → BLR    07:00  05:25 13 Jun  22h 25m     2 stops   \n",
      "1011  DEL → JAI → BOM → COK    05:30  04:25 10 May  22h 55m     2 stops   \n",
      "1033        DEL → BOM → COK    07:30         19:15  11h 45m      1 stop   \n",
      "1044              BLR → DEL    20:55         23:50   2h 55m    non-stop   \n",
      "1233  DEL → JAI → BOM → COK    05:30  04:25 07 Jun  22h 55m     2 stops   \n",
      "1504  DEL → GOI → BOM → COK    22:00  19:15 16 Jun  21h 15m     2 stops   \n",
      "1537  DEL → NAG → BOM → COK    06:45  04:25 07 Jun  21h 40m     2 stops   \n",
      "1752        DEL → BOM → COK    07:30         19:15  11h 45m      1 stop   \n",
      "1753  DEL → AMD → BOM → COK    23:05  19:00 19 May  19h 55m     2 stops   \n",
      "1783  BLR → CCU → GAU → DEL    05:50         22:10  16h 20m     2 stops   \n",
      "1876  CCU → DEL → COK → BLR    07:00  01:20 02 Apr  18h 20m     2 stops   \n",
      "1962        DEL → BOM → COK    10:00         21:00      11h      1 stop   \n",
      "2007  DEL → JAI → BOM → COK    09:40  04:25 25 Jun  18h 45m     2 stops   \n",
      "2042  BLR → BOM → AMD → DEL    17:25  23:55 13 Mar  30h 30m     2 stops   \n",
      "2083  DEL → HYD → BOM → COK    13:15  19:15 16 Jun      30h     2 stops   \n",
      "2095  DEL → NAG → BOM → COK    14:35  04:25 02 Jun  13h 50m     2 stops   \n",
      "2171  DEL → JAI → BOM → COK    09:40  12:35 22 May  26h 55m     2 stops   \n",
      "2310  DEL → MAA → BOM → COK    05:10  04:25 28 Mar  23h 15m     2 stops   \n",
      "2536  DEL → GOI → BOM → COK    22:00  19:15 04 Jun  21h 15m     2 stops   \n",
      "2553  DEL → JAI → BOM → COK    05:30         19:00  13h 30m     2 stops   \n",
      "2560        DEL → BOM → COK    13:00  01:30 04 Jun  12h 30m      1 stop   \n",
      "2582  CCU → BOM → GOI → BLR    16:50  05:35 13 May  12h 45m     2 stops   \n",
      "2583              BLR → DEL    18:55         21:45   2h 50m    non-stop   \n",
      "\n",
      "                  Additional_Info  \n",
      "294                       No info  \n",
      "794   In-flight meal not included  \n",
      "909                       No info  \n",
      "974                       No info  \n",
      "1011                      No info  \n",
      "1033                      No info  \n",
      "1044                      No info  \n",
      "1233                      No info  \n",
      "1504                      No info  \n",
      "1537  In-flight meal not included  \n",
      "1752                      No info  \n",
      "1753                      No info  \n",
      "1783                      No info  \n",
      "1876                      No info  \n",
      "1962                      No info  \n",
      "2007                      No info  \n",
      "2042                      No info  \n",
      "2083                      No info  \n",
      "2095  In-flight meal not included  \n",
      "2171                      No info  \n",
      "2310  In-flight meal not included  \n",
      "2536                      No info  \n",
      "2553                      No info  \n",
      "2560                      No info  \n",
      "2582                      No info  \n",
      "2583                      No info  \n",
      "==========================================================================\n"
     ]
    }
   ],
   "source": [
    "duplicate = df[df.duplicated()]\n",
    "print('==========================================================================')\n",
    "print(\"Duplicate Rows :\\n\\n\",duplicate)\n",
    "print('==========================================================================')"
   ]
  },
  {
   "cell_type": "markdown",
   "id": "8a677198",
   "metadata": {},
   "source": [
    "### Droping Duplicates"
   ]
  },
  {
   "cell_type": "code",
   "execution_count": 7,
   "id": "4cf7c040",
   "metadata": {},
   "outputs": [],
   "source": [
    "df.drop_duplicates(keep=False,inplace=True)"
   ]
  },
  {
   "cell_type": "code",
   "execution_count": 8,
   "id": "cd7ec7e6",
   "metadata": {},
   "outputs": [
    {
     "name": "stdout",
     "output_type": "stream",
     "text": [
      "After removing duplicates No of Rows and Columns  -----> (2619, 10)\n"
     ]
    }
   ],
   "source": [
    "print('After removing duplicates No of Rows and Columns  ----->', df.shape )"
   ]
  },
  {
   "cell_type": "markdown",
   "id": "bf988acd",
   "metadata": {},
   "source": [
    "### Add Months Column"
   ]
  },
  {
   "cell_type": "code",
   "execution_count": 9,
   "id": "9efce5b2",
   "metadata": {},
   "outputs": [
    {
     "data": {
      "text/html": [
       "<div>\n",
       "<style scoped>\n",
       "    .dataframe tbody tr th:only-of-type {\n",
       "        vertical-align: middle;\n",
       "    }\n",
       "\n",
       "    .dataframe tbody tr th {\n",
       "        vertical-align: top;\n",
       "    }\n",
       "\n",
       "    .dataframe thead th {\n",
       "        text-align: right;\n",
       "    }\n",
       "</style>\n",
       "<table border=\"1\" class=\"dataframe\">\n",
       "  <thead>\n",
       "    <tr style=\"text-align: right;\">\n",
       "      <th></th>\n",
       "      <th>Airline</th>\n",
       "      <th>Date_of_Journey</th>\n",
       "      <th>Source</th>\n",
       "      <th>Destination</th>\n",
       "      <th>Route</th>\n",
       "      <th>Dep_Time</th>\n",
       "      <th>Arrival_Time</th>\n",
       "      <th>Duration</th>\n",
       "      <th>Total_Stops</th>\n",
       "      <th>Additional_Info</th>\n",
       "      <th>Months</th>\n",
       "    </tr>\n",
       "  </thead>\n",
       "  <tbody>\n",
       "    <tr>\n",
       "      <th>0</th>\n",
       "      <td>Jet Airways</td>\n",
       "      <td>2019-06-06</td>\n",
       "      <td>Delhi</td>\n",
       "      <td>Cochin</td>\n",
       "      <td>DEL → BOM → COK</td>\n",
       "      <td>17:30</td>\n",
       "      <td>04:25 07 Jun</td>\n",
       "      <td>10h 55m</td>\n",
       "      <td>1 stop</td>\n",
       "      <td>No info</td>\n",
       "      <td>6</td>\n",
       "    </tr>\n",
       "    <tr>\n",
       "      <th>1</th>\n",
       "      <td>IndiGo</td>\n",
       "      <td>2019-12-05</td>\n",
       "      <td>Kolkata</td>\n",
       "      <td>Banglore</td>\n",
       "      <td>CCU → MAA → BLR</td>\n",
       "      <td>06:20</td>\n",
       "      <td>10:20</td>\n",
       "      <td>4h</td>\n",
       "      <td>1 stop</td>\n",
       "      <td>No info</td>\n",
       "      <td>12</td>\n",
       "    </tr>\n",
       "  </tbody>\n",
       "</table>\n",
       "</div>"
      ],
      "text/plain": [
       "       Airline Date_of_Journey   Source Destination            Route Dep_Time  \\\n",
       "0  Jet Airways      2019-06-06    Delhi      Cochin  DEL → BOM → COK    17:30   \n",
       "1       IndiGo      2019-12-05  Kolkata    Banglore  CCU → MAA → BLR    06:20   \n",
       "\n",
       "   Arrival_Time Duration Total_Stops Additional_Info  Months  \n",
       "0  04:25 07 Jun  10h 55m      1 stop         No info       6  \n",
       "1         10:20       4h      1 stop         No info      12  "
      ]
     },
     "execution_count": 9,
     "metadata": {},
     "output_type": "execute_result"
    }
   ],
   "source": [
    "df['Date_of_Journey'] = pd.to_datetime(df['Date_of_Journey'])\n",
    "df['Months'] = df['Date_of_Journey'].dt.month\n",
    "df['Months'] = df['Months'].astype('int')\n",
    "df.head(2)"
   ]
  },
  {
   "cell_type": "code",
   "execution_count": 10,
   "id": "3809e618",
   "metadata": {},
   "outputs": [
    {
     "data": {
      "text/plain": [
       "6     636\n",
       "3     533\n",
       "5     481\n",
       "9     359\n",
       "1     270\n",
       "12    247\n",
       "4      93\n",
       "Name: Months, dtype: int64"
      ]
     },
     "execution_count": 10,
     "metadata": {},
     "output_type": "execute_result"
    }
   ],
   "source": [
    "df['Months'].value_counts()"
   ]
  },
  {
   "cell_type": "code",
   "execution_count": 11,
   "id": "723482fb",
   "metadata": {},
   "outputs": [
    {
     "data": {
      "text/plain": [
       "dtype('int32')"
      ]
     },
     "execution_count": 11,
     "metadata": {},
     "output_type": "execute_result"
    }
   ],
   "source": [
    "df['Months'].dtype"
   ]
  },
  {
   "cell_type": "markdown",
   "id": "b155ad4f",
   "metadata": {},
   "source": [
    "### Add Day Column"
   ]
  },
  {
   "cell_type": "code",
   "execution_count": 12,
   "id": "1d42be4c",
   "metadata": {},
   "outputs": [
    {
     "data": {
      "text/html": [
       "<div>\n",
       "<style scoped>\n",
       "    .dataframe tbody tr th:only-of-type {\n",
       "        vertical-align: middle;\n",
       "    }\n",
       "\n",
       "    .dataframe tbody tr th {\n",
       "        vertical-align: top;\n",
       "    }\n",
       "\n",
       "    .dataframe thead th {\n",
       "        text-align: right;\n",
       "    }\n",
       "</style>\n",
       "<table border=\"1\" class=\"dataframe\">\n",
       "  <thead>\n",
       "    <tr style=\"text-align: right;\">\n",
       "      <th></th>\n",
       "      <th>Airline</th>\n",
       "      <th>Date_of_Journey</th>\n",
       "      <th>Source</th>\n",
       "      <th>Destination</th>\n",
       "      <th>Route</th>\n",
       "      <th>Dep_Time</th>\n",
       "      <th>Arrival_Time</th>\n",
       "      <th>Duration</th>\n",
       "      <th>Total_Stops</th>\n",
       "      <th>Additional_Info</th>\n",
       "      <th>Months</th>\n",
       "      <th>Day</th>\n",
       "    </tr>\n",
       "  </thead>\n",
       "  <tbody>\n",
       "    <tr>\n",
       "      <th>0</th>\n",
       "      <td>Jet Airways</td>\n",
       "      <td>2019-06-06</td>\n",
       "      <td>Delhi</td>\n",
       "      <td>Cochin</td>\n",
       "      <td>DEL → BOM → COK</td>\n",
       "      <td>17:30</td>\n",
       "      <td>04:25 07 Jun</td>\n",
       "      <td>10h 55m</td>\n",
       "      <td>1 stop</td>\n",
       "      <td>No info</td>\n",
       "      <td>6</td>\n",
       "      <td>6</td>\n",
       "    </tr>\n",
       "    <tr>\n",
       "      <th>1</th>\n",
       "      <td>IndiGo</td>\n",
       "      <td>2019-12-05</td>\n",
       "      <td>Kolkata</td>\n",
       "      <td>Banglore</td>\n",
       "      <td>CCU → MAA → BLR</td>\n",
       "      <td>06:20</td>\n",
       "      <td>10:20</td>\n",
       "      <td>4h</td>\n",
       "      <td>1 stop</td>\n",
       "      <td>No info</td>\n",
       "      <td>12</td>\n",
       "      <td>5</td>\n",
       "    </tr>\n",
       "  </tbody>\n",
       "</table>\n",
       "</div>"
      ],
      "text/plain": [
       "       Airline Date_of_Journey   Source Destination            Route Dep_Time  \\\n",
       "0  Jet Airways      2019-06-06    Delhi      Cochin  DEL → BOM → COK    17:30   \n",
       "1       IndiGo      2019-12-05  Kolkata    Banglore  CCU → MAA → BLR    06:20   \n",
       "\n",
       "   Arrival_Time Duration Total_Stops Additional_Info  Months  Day  \n",
       "0  04:25 07 Jun  10h 55m      1 stop         No info       6    6  \n",
       "1         10:20       4h      1 stop         No info      12    5  "
      ]
     },
     "execution_count": 12,
     "metadata": {},
     "output_type": "execute_result"
    }
   ],
   "source": [
    "df['Day'] = df['Date_of_Journey'].dt.day\n",
    "df['Day'] = df['Day'].astype('int')\n",
    "df.head(2)"
   ]
  },
  {
   "cell_type": "code",
   "execution_count": 13,
   "id": "80c097b8",
   "metadata": {},
   "outputs": [
    {
     "data": {
      "text/plain": [
       "6     545\n",
       "3     374\n",
       "5     370\n",
       "15    257\n",
       "21    253\n",
       "24    247\n",
       "27    218\n",
       "18    202\n",
       "4     153\n",
       "Name: Day, dtype: int64"
      ]
     },
     "execution_count": 13,
     "metadata": {},
     "output_type": "execute_result"
    }
   ],
   "source": [
    "df['Day'].value_counts()"
   ]
  },
  {
   "cell_type": "code",
   "execution_count": 14,
   "id": "fa003e40",
   "metadata": {},
   "outputs": [
    {
     "data": {
      "text/plain": [
       "dtype('int32')"
      ]
     },
     "execution_count": 14,
     "metadata": {},
     "output_type": "execute_result"
    }
   ],
   "source": [
    "df['Day'].dtype"
   ]
  },
  {
   "cell_type": "markdown",
   "id": "7f87df59",
   "metadata": {},
   "source": [
    "### Add New Arrival Column"
   ]
  },
  {
   "cell_type": "code",
   "execution_count": 15,
   "id": "25204c47",
   "metadata": {},
   "outputs": [
    {
     "data": {
      "text/html": [
       "<div>\n",
       "<style scoped>\n",
       "    .dataframe tbody tr th:only-of-type {\n",
       "        vertical-align: middle;\n",
       "    }\n",
       "\n",
       "    .dataframe tbody tr th {\n",
       "        vertical-align: top;\n",
       "    }\n",
       "\n",
       "    .dataframe thead th {\n",
       "        text-align: right;\n",
       "    }\n",
       "</style>\n",
       "<table border=\"1\" class=\"dataframe\">\n",
       "  <thead>\n",
       "    <tr style=\"text-align: right;\">\n",
       "      <th></th>\n",
       "      <th>Airline</th>\n",
       "      <th>Date_of_Journey</th>\n",
       "      <th>Source</th>\n",
       "      <th>Destination</th>\n",
       "      <th>Route</th>\n",
       "      <th>Dep_Time</th>\n",
       "      <th>Arrival_Time</th>\n",
       "      <th>Duration</th>\n",
       "      <th>Total_Stops</th>\n",
       "      <th>Additional_Info</th>\n",
       "      <th>Months</th>\n",
       "      <th>Day</th>\n",
       "      <th>NewArrival_Time</th>\n",
       "    </tr>\n",
       "  </thead>\n",
       "  <tbody>\n",
       "    <tr>\n",
       "      <th>0</th>\n",
       "      <td>Jet Airways</td>\n",
       "      <td>2019-06-06</td>\n",
       "      <td>Delhi</td>\n",
       "      <td>Cochin</td>\n",
       "      <td>DEL → BOM → COK</td>\n",
       "      <td>17:30</td>\n",
       "      <td>2021-06-07 04:25:00</td>\n",
       "      <td>10h 55m</td>\n",
       "      <td>1 stop</td>\n",
       "      <td>No info</td>\n",
       "      <td>6</td>\n",
       "      <td>6</td>\n",
       "      <td>04:25:00</td>\n",
       "    </tr>\n",
       "    <tr>\n",
       "      <th>1</th>\n",
       "      <td>IndiGo</td>\n",
       "      <td>2019-12-05</td>\n",
       "      <td>Kolkata</td>\n",
       "      <td>Banglore</td>\n",
       "      <td>CCU → MAA → BLR</td>\n",
       "      <td>06:20</td>\n",
       "      <td>2021-08-10 10:20:00</td>\n",
       "      <td>4h</td>\n",
       "      <td>1 stop</td>\n",
       "      <td>No info</td>\n",
       "      <td>12</td>\n",
       "      <td>5</td>\n",
       "      <td>10:20:00</td>\n",
       "    </tr>\n",
       "  </tbody>\n",
       "</table>\n",
       "</div>"
      ],
      "text/plain": [
       "       Airline Date_of_Journey   Source Destination            Route Dep_Time  \\\n",
       "0  Jet Airways      2019-06-06    Delhi      Cochin  DEL → BOM → COK    17:30   \n",
       "1       IndiGo      2019-12-05  Kolkata    Banglore  CCU → MAA → BLR    06:20   \n",
       "\n",
       "         Arrival_Time Duration Total_Stops Additional_Info  Months  Day  \\\n",
       "0 2021-06-07 04:25:00  10h 55m      1 stop         No info       6    6   \n",
       "1 2021-08-10 10:20:00       4h      1 stop         No info      12    5   \n",
       "\n",
       "  NewArrival_Time  \n",
       "0        04:25:00  \n",
       "1        10:20:00  "
      ]
     },
     "execution_count": 15,
     "metadata": {},
     "output_type": "execute_result"
    }
   ],
   "source": [
    "df['Arrival_Time'] = pd.to_datetime(df['Arrival_Time'])\n",
    "df['NewArrival_Time'] = df['Arrival_Time'].dt.time\n",
    "df.head(2)"
   ]
  },
  {
   "cell_type": "markdown",
   "id": "cef2c3ae",
   "metadata": {},
   "source": [
    "### Add New Departure Time column"
   ]
  },
  {
   "cell_type": "code",
   "execution_count": 16,
   "id": "e6a514c0",
   "metadata": {},
   "outputs": [
    {
     "data": {
      "text/html": [
       "<div>\n",
       "<style scoped>\n",
       "    .dataframe tbody tr th:only-of-type {\n",
       "        vertical-align: middle;\n",
       "    }\n",
       "\n",
       "    .dataframe tbody tr th {\n",
       "        vertical-align: top;\n",
       "    }\n",
       "\n",
       "    .dataframe thead th {\n",
       "        text-align: right;\n",
       "    }\n",
       "</style>\n",
       "<table border=\"1\" class=\"dataframe\">\n",
       "  <thead>\n",
       "    <tr style=\"text-align: right;\">\n",
       "      <th></th>\n",
       "      <th>Airline</th>\n",
       "      <th>Date_of_Journey</th>\n",
       "      <th>Source</th>\n",
       "      <th>Destination</th>\n",
       "      <th>Route</th>\n",
       "      <th>Dep_Time</th>\n",
       "      <th>Arrival_Time</th>\n",
       "      <th>Duration</th>\n",
       "      <th>Total_Stops</th>\n",
       "      <th>Additional_Info</th>\n",
       "      <th>Months</th>\n",
       "      <th>Day</th>\n",
       "      <th>NewArrival_Time</th>\n",
       "      <th>NewDep_Time</th>\n",
       "    </tr>\n",
       "  </thead>\n",
       "  <tbody>\n",
       "    <tr>\n",
       "      <th>0</th>\n",
       "      <td>Jet Airways</td>\n",
       "      <td>2019-06-06</td>\n",
       "      <td>Delhi</td>\n",
       "      <td>Cochin</td>\n",
       "      <td>DEL → BOM → COK</td>\n",
       "      <td>2021-08-10 17:30:00</td>\n",
       "      <td>2021-06-07 04:25:00</td>\n",
       "      <td>10h 55m</td>\n",
       "      <td>1 stop</td>\n",
       "      <td>No info</td>\n",
       "      <td>6</td>\n",
       "      <td>6</td>\n",
       "      <td>04:25:00</td>\n",
       "      <td>17:30:00</td>\n",
       "    </tr>\n",
       "    <tr>\n",
       "      <th>1</th>\n",
       "      <td>IndiGo</td>\n",
       "      <td>2019-12-05</td>\n",
       "      <td>Kolkata</td>\n",
       "      <td>Banglore</td>\n",
       "      <td>CCU → MAA → BLR</td>\n",
       "      <td>2021-08-10 06:20:00</td>\n",
       "      <td>2021-08-10 10:20:00</td>\n",
       "      <td>4h</td>\n",
       "      <td>1 stop</td>\n",
       "      <td>No info</td>\n",
       "      <td>12</td>\n",
       "      <td>5</td>\n",
       "      <td>10:20:00</td>\n",
       "      <td>06:20:00</td>\n",
       "    </tr>\n",
       "  </tbody>\n",
       "</table>\n",
       "</div>"
      ],
      "text/plain": [
       "       Airline Date_of_Journey   Source Destination            Route  \\\n",
       "0  Jet Airways      2019-06-06    Delhi      Cochin  DEL → BOM → COK   \n",
       "1       IndiGo      2019-12-05  Kolkata    Banglore  CCU → MAA → BLR   \n",
       "\n",
       "             Dep_Time        Arrival_Time Duration Total_Stops  \\\n",
       "0 2021-08-10 17:30:00 2021-06-07 04:25:00  10h 55m      1 stop   \n",
       "1 2021-08-10 06:20:00 2021-08-10 10:20:00       4h      1 stop   \n",
       "\n",
       "  Additional_Info  Months  Day NewArrival_Time NewDep_Time  \n",
       "0         No info       6    6        04:25:00    17:30:00  \n",
       "1         No info      12    5        10:20:00    06:20:00  "
      ]
     },
     "execution_count": 16,
     "metadata": {},
     "output_type": "execute_result"
    }
   ],
   "source": [
    "df['Dep_Time'] = pd.to_datetime(df['Dep_Time'])\n",
    "df['NewDep_Time'] = df['Dep_Time'].dt.time\n",
    "df.head(2)"
   ]
  },
  {
   "cell_type": "code",
   "execution_count": 17,
   "id": "f11c063a",
   "metadata": {},
   "outputs": [
    {
     "name": "stdout",
     "output_type": "stream",
     "text": [
      "<class 'pandas.core.frame.DataFrame'>\n",
      "Int64Index: 2619 entries, 0 to 2670\n",
      "Data columns (total 14 columns):\n",
      " #   Column           Non-Null Count  Dtype         \n",
      "---  ------           --------------  -----         \n",
      " 0   Airline          2619 non-null   object        \n",
      " 1   Date_of_Journey  2619 non-null   datetime64[ns]\n",
      " 2   Source           2619 non-null   object        \n",
      " 3   Destination      2619 non-null   object        \n",
      " 4   Route            2619 non-null   object        \n",
      " 5   Dep_Time         2619 non-null   datetime64[ns]\n",
      " 6   Arrival_Time     2619 non-null   datetime64[ns]\n",
      " 7   Duration         2619 non-null   object        \n",
      " 8   Total_Stops      2619 non-null   object        \n",
      " 9   Additional_Info  2619 non-null   object        \n",
      " 10  Months           2619 non-null   int32         \n",
      " 11  Day              2619 non-null   int32         \n",
      " 12  NewArrival_Time  2619 non-null   object        \n",
      " 13  NewDep_Time      2619 non-null   object        \n",
      "dtypes: datetime64[ns](3), int32(2), object(9)\n",
      "memory usage: 286.5+ KB\n"
     ]
    }
   ],
   "source": [
    "df.info()"
   ]
  },
  {
   "cell_type": "markdown",
   "id": "fffe9531",
   "metadata": {},
   "source": [
    "### Converting New Arrival Time and New Departure Time column in Minutes"
   ]
  },
  {
   "cell_type": "code",
   "execution_count": 18,
   "id": "2399ac9f",
   "metadata": {},
   "outputs": [
    {
     "data": {
      "text/html": [
       "<div>\n",
       "<style scoped>\n",
       "    .dataframe tbody tr th:only-of-type {\n",
       "        vertical-align: middle;\n",
       "    }\n",
       "\n",
       "    .dataframe tbody tr th {\n",
       "        vertical-align: top;\n",
       "    }\n",
       "\n",
       "    .dataframe thead th {\n",
       "        text-align: right;\n",
       "    }\n",
       "</style>\n",
       "<table border=\"1\" class=\"dataframe\">\n",
       "  <thead>\n",
       "    <tr style=\"text-align: right;\">\n",
       "      <th></th>\n",
       "      <th>Airline</th>\n",
       "      <th>Date_of_Journey</th>\n",
       "      <th>Source</th>\n",
       "      <th>Destination</th>\n",
       "      <th>Route</th>\n",
       "      <th>Dep_Time</th>\n",
       "      <th>Arrival_Time</th>\n",
       "      <th>Duration</th>\n",
       "      <th>Total_Stops</th>\n",
       "      <th>Additional_Info</th>\n",
       "      <th>Months</th>\n",
       "      <th>Day</th>\n",
       "      <th>NewArrival_Time</th>\n",
       "      <th>NewDep_Time</th>\n",
       "      <th>Dep_Hours</th>\n",
       "      <th>Arrival_Hours</th>\n",
       "    </tr>\n",
       "  </thead>\n",
       "  <tbody>\n",
       "    <tr>\n",
       "      <th>0</th>\n",
       "      <td>Jet Airways</td>\n",
       "      <td>2019-06-06</td>\n",
       "      <td>Delhi</td>\n",
       "      <td>Cochin</td>\n",
       "      <td>DEL → BOM → COK</td>\n",
       "      <td>2021-08-10 17:30:00</td>\n",
       "      <td>2021-06-07 04:25:00</td>\n",
       "      <td>10h 55m</td>\n",
       "      <td>1 stop</td>\n",
       "      <td>No info</td>\n",
       "      <td>6</td>\n",
       "      <td>6</td>\n",
       "      <td>04:25:00</td>\n",
       "      <td>17:30:00</td>\n",
       "      <td>1050.0</td>\n",
       "      <td>265.0</td>\n",
       "    </tr>\n",
       "    <tr>\n",
       "      <th>1</th>\n",
       "      <td>IndiGo</td>\n",
       "      <td>2019-12-05</td>\n",
       "      <td>Kolkata</td>\n",
       "      <td>Banglore</td>\n",
       "      <td>CCU → MAA → BLR</td>\n",
       "      <td>2021-08-10 06:20:00</td>\n",
       "      <td>2021-08-10 10:20:00</td>\n",
       "      <td>4h</td>\n",
       "      <td>1 stop</td>\n",
       "      <td>No info</td>\n",
       "      <td>12</td>\n",
       "      <td>5</td>\n",
       "      <td>10:20:00</td>\n",
       "      <td>06:20:00</td>\n",
       "      <td>380.0</td>\n",
       "      <td>620.0</td>\n",
       "    </tr>\n",
       "  </tbody>\n",
       "</table>\n",
       "</div>"
      ],
      "text/plain": [
       "       Airline Date_of_Journey   Source Destination            Route  \\\n",
       "0  Jet Airways      2019-06-06    Delhi      Cochin  DEL → BOM → COK   \n",
       "1       IndiGo      2019-12-05  Kolkata    Banglore  CCU → MAA → BLR   \n",
       "\n",
       "             Dep_Time        Arrival_Time Duration Total_Stops  \\\n",
       "0 2021-08-10 17:30:00 2021-06-07 04:25:00  10h 55m      1 stop   \n",
       "1 2021-08-10 06:20:00 2021-08-10 10:20:00       4h      1 stop   \n",
       "\n",
       "  Additional_Info  Months  Day NewArrival_Time NewDep_Time  Dep_Hours  \\\n",
       "0         No info       6    6        04:25:00    17:30:00     1050.0   \n",
       "1         No info      12    5        10:20:00    06:20:00      380.0   \n",
       "\n",
       "   Arrival_Hours  \n",
       "0          265.0  \n",
       "1          620.0  "
      ]
     },
     "execution_count": 18,
     "metadata": {},
     "output_type": "execute_result"
    }
   ],
   "source": [
    "df['Dep_Hours'] = df['Dep_Time'].apply(lambda x: x.hour * 3600 + x.minute * 60 + x.second)/60\n",
    "df['Arrival_Hours'] = df['NewArrival_Time'].apply(lambda x: x.hour * 3600 + x.minute * 60 + x.second)/60\n",
    "df.head(2)"
   ]
  },
  {
   "cell_type": "markdown",
   "id": "66b16ffe",
   "metadata": {},
   "source": [
    "### Split Duration column into Hours and Minutes"
   ]
  },
  {
   "cell_type": "code",
   "execution_count": 19,
   "id": "7776952c",
   "metadata": {},
   "outputs": [
    {
     "data": {
      "text/html": [
       "<div>\n",
       "<style scoped>\n",
       "    .dataframe tbody tr th:only-of-type {\n",
       "        vertical-align: middle;\n",
       "    }\n",
       "\n",
       "    .dataframe tbody tr th {\n",
       "        vertical-align: top;\n",
       "    }\n",
       "\n",
       "    .dataframe thead th {\n",
       "        text-align: right;\n",
       "    }\n",
       "</style>\n",
       "<table border=\"1\" class=\"dataframe\">\n",
       "  <thead>\n",
       "    <tr style=\"text-align: right;\">\n",
       "      <th></th>\n",
       "      <th>Airline</th>\n",
       "      <th>Date_of_Journey</th>\n",
       "      <th>Source</th>\n",
       "      <th>Destination</th>\n",
       "      <th>Route</th>\n",
       "      <th>Dep_Time</th>\n",
       "      <th>Arrival_Time</th>\n",
       "      <th>Duration</th>\n",
       "      <th>Total_Stops</th>\n",
       "      <th>Additional_Info</th>\n",
       "      <th>Months</th>\n",
       "      <th>Day</th>\n",
       "      <th>NewArrival_Time</th>\n",
       "      <th>NewDep_Time</th>\n",
       "      <th>Dep_Hours</th>\n",
       "      <th>Arrival_Hours</th>\n",
       "      <th>Hours</th>\n",
       "      <th>Minutes</th>\n",
       "    </tr>\n",
       "  </thead>\n",
       "  <tbody>\n",
       "    <tr>\n",
       "      <th>0</th>\n",
       "      <td>Jet Airways</td>\n",
       "      <td>2019-06-06</td>\n",
       "      <td>Delhi</td>\n",
       "      <td>Cochin</td>\n",
       "      <td>DEL → BOM → COK</td>\n",
       "      <td>2021-08-10 17:30:00</td>\n",
       "      <td>2021-06-07 04:25:00</td>\n",
       "      <td>10h 55m</td>\n",
       "      <td>1 stop</td>\n",
       "      <td>No info</td>\n",
       "      <td>6</td>\n",
       "      <td>6</td>\n",
       "      <td>04:25:00</td>\n",
       "      <td>17:30:00</td>\n",
       "      <td>1050.0</td>\n",
       "      <td>265.0</td>\n",
       "      <td>10h</td>\n",
       "      <td>55m</td>\n",
       "    </tr>\n",
       "    <tr>\n",
       "      <th>1</th>\n",
       "      <td>IndiGo</td>\n",
       "      <td>2019-12-05</td>\n",
       "      <td>Kolkata</td>\n",
       "      <td>Banglore</td>\n",
       "      <td>CCU → MAA → BLR</td>\n",
       "      <td>2021-08-10 06:20:00</td>\n",
       "      <td>2021-08-10 10:20:00</td>\n",
       "      <td>4h</td>\n",
       "      <td>1 stop</td>\n",
       "      <td>No info</td>\n",
       "      <td>12</td>\n",
       "      <td>5</td>\n",
       "      <td>10:20:00</td>\n",
       "      <td>06:20:00</td>\n",
       "      <td>380.0</td>\n",
       "      <td>620.0</td>\n",
       "      <td>4h</td>\n",
       "      <td>None</td>\n",
       "    </tr>\n",
       "  </tbody>\n",
       "</table>\n",
       "</div>"
      ],
      "text/plain": [
       "       Airline Date_of_Journey   Source Destination            Route  \\\n",
       "0  Jet Airways      2019-06-06    Delhi      Cochin  DEL → BOM → COK   \n",
       "1       IndiGo      2019-12-05  Kolkata    Banglore  CCU → MAA → BLR   \n",
       "\n",
       "             Dep_Time        Arrival_Time Duration Total_Stops  \\\n",
       "0 2021-08-10 17:30:00 2021-06-07 04:25:00  10h 55m      1 stop   \n",
       "1 2021-08-10 06:20:00 2021-08-10 10:20:00       4h      1 stop   \n",
       "\n",
       "  Additional_Info  Months  Day NewArrival_Time NewDep_Time  Dep_Hours  \\\n",
       "0         No info       6    6        04:25:00    17:30:00     1050.0   \n",
       "1         No info      12    5        10:20:00    06:20:00      380.0   \n",
       "\n",
       "   Arrival_Hours Hours Minutes  \n",
       "0          265.0   10h     55m  \n",
       "1          620.0    4h    None  "
      ]
     },
     "execution_count": 19,
     "metadata": {},
     "output_type": "execute_result"
    }
   ],
   "source": [
    "new = df['Duration'].str.split(' ', n = 2, expand = True)\n",
    "df['Hours'] = new[0]\n",
    "df['Minutes'] = new[1]\n",
    "df.head(2)"
   ]
  },
  {
   "cell_type": "code",
   "execution_count": 20,
   "id": "bb80778b",
   "metadata": {},
   "outputs": [
    {
     "data": {
      "text/html": [
       "<div>\n",
       "<style scoped>\n",
       "    .dataframe tbody tr th:only-of-type {\n",
       "        vertical-align: middle;\n",
       "    }\n",
       "\n",
       "    .dataframe tbody tr th {\n",
       "        vertical-align: top;\n",
       "    }\n",
       "\n",
       "    .dataframe thead th {\n",
       "        text-align: right;\n",
       "    }\n",
       "</style>\n",
       "<table border=\"1\" class=\"dataframe\">\n",
       "  <thead>\n",
       "    <tr style=\"text-align: right;\">\n",
       "      <th></th>\n",
       "      <th>Airline</th>\n",
       "      <th>Date_of_Journey</th>\n",
       "      <th>Source</th>\n",
       "      <th>Destination</th>\n",
       "      <th>Route</th>\n",
       "      <th>Dep_Time</th>\n",
       "      <th>Arrival_Time</th>\n",
       "      <th>Duration</th>\n",
       "      <th>Total_Stops</th>\n",
       "      <th>Additional_Info</th>\n",
       "      <th>Months</th>\n",
       "      <th>Day</th>\n",
       "      <th>NewArrival_Time</th>\n",
       "      <th>NewDep_Time</th>\n",
       "      <th>Dep_Hours</th>\n",
       "      <th>Arrival_Hours</th>\n",
       "      <th>Hours</th>\n",
       "      <th>Minutes</th>\n",
       "    </tr>\n",
       "  </thead>\n",
       "  <tbody>\n",
       "    <tr>\n",
       "      <th>0</th>\n",
       "      <td>Jet Airways</td>\n",
       "      <td>2019-06-06</td>\n",
       "      <td>Delhi</td>\n",
       "      <td>Cochin</td>\n",
       "      <td>DEL → BOM → COK</td>\n",
       "      <td>2021-08-10 17:30:00</td>\n",
       "      <td>2021-06-07 04:25:00</td>\n",
       "      <td>10h 55m</td>\n",
       "      <td>1 stop</td>\n",
       "      <td>No info</td>\n",
       "      <td>6</td>\n",
       "      <td>6</td>\n",
       "      <td>04:25:00</td>\n",
       "      <td>17:30:00</td>\n",
       "      <td>1050.0</td>\n",
       "      <td>265.0</td>\n",
       "      <td>10</td>\n",
       "      <td>55</td>\n",
       "    </tr>\n",
       "    <tr>\n",
       "      <th>1</th>\n",
       "      <td>IndiGo</td>\n",
       "      <td>2019-12-05</td>\n",
       "      <td>Kolkata</td>\n",
       "      <td>Banglore</td>\n",
       "      <td>CCU → MAA → BLR</td>\n",
       "      <td>2021-08-10 06:20:00</td>\n",
       "      <td>2021-08-10 10:20:00</td>\n",
       "      <td>4h</td>\n",
       "      <td>1 stop</td>\n",
       "      <td>No info</td>\n",
       "      <td>12</td>\n",
       "      <td>5</td>\n",
       "      <td>10:20:00</td>\n",
       "      <td>06:20:00</td>\n",
       "      <td>380.0</td>\n",
       "      <td>620.0</td>\n",
       "      <td>4</td>\n",
       "      <td>None</td>\n",
       "    </tr>\n",
       "  </tbody>\n",
       "</table>\n",
       "</div>"
      ],
      "text/plain": [
       "       Airline Date_of_Journey   Source Destination            Route  \\\n",
       "0  Jet Airways      2019-06-06    Delhi      Cochin  DEL → BOM → COK   \n",
       "1       IndiGo      2019-12-05  Kolkata    Banglore  CCU → MAA → BLR   \n",
       "\n",
       "             Dep_Time        Arrival_Time Duration Total_Stops  \\\n",
       "0 2021-08-10 17:30:00 2021-06-07 04:25:00  10h 55m      1 stop   \n",
       "1 2021-08-10 06:20:00 2021-08-10 10:20:00       4h      1 stop   \n",
       "\n",
       "  Additional_Info  Months  Day NewArrival_Time NewDep_Time  Dep_Hours  \\\n",
       "0         No info       6    6        04:25:00    17:30:00     1050.0   \n",
       "1         No info      12    5        10:20:00    06:20:00      380.0   \n",
       "\n",
       "   Arrival_Hours Hours Minutes  \n",
       "0          265.0    10      55  \n",
       "1          620.0     4    None  "
      ]
     },
     "execution_count": 20,
     "metadata": {},
     "output_type": "execute_result"
    }
   ],
   "source": [
    "df['Hours'] = new[0].str.split('h', expand = True)\n",
    "df['Minutes'] = new[1].str.split('m', expand = True)\n",
    "df.head(2)"
   ]
  },
  {
   "cell_type": "code",
   "execution_count": 21,
   "id": "9228ebf9",
   "metadata": {},
   "outputs": [
    {
     "name": "stdout",
     "output_type": "stream",
     "text": [
      "<class 'pandas.core.frame.DataFrame'>\n",
      "Int64Index: 2619 entries, 0 to 2670\n",
      "Data columns (total 18 columns):\n",
      " #   Column           Non-Null Count  Dtype         \n",
      "---  ------           --------------  -----         \n",
      " 0   Airline          2619 non-null   object        \n",
      " 1   Date_of_Journey  2619 non-null   datetime64[ns]\n",
      " 2   Source           2619 non-null   object        \n",
      " 3   Destination      2619 non-null   object        \n",
      " 4   Route            2619 non-null   object        \n",
      " 5   Dep_Time         2619 non-null   datetime64[ns]\n",
      " 6   Arrival_Time     2619 non-null   datetime64[ns]\n",
      " 7   Duration         2619 non-null   object        \n",
      " 8   Total_Stops      2619 non-null   object        \n",
      " 9   Additional_Info  2619 non-null   object        \n",
      " 10  Months           2619 non-null   int32         \n",
      " 11  Day              2619 non-null   int32         \n",
      " 12  NewArrival_Time  2619 non-null   object        \n",
      " 13  NewDep_Time      2619 non-null   object        \n",
      " 14  Dep_Hours        2619 non-null   float64       \n",
      " 15  Arrival_Hours    2619 non-null   float64       \n",
      " 16  Hours            2619 non-null   float64       \n",
      " 17  Minutes          2369 non-null   object        \n",
      "dtypes: datetime64[ns](3), float64(3), int32(2), object(10)\n",
      "memory usage: 368.3+ KB\n"
     ]
    }
   ],
   "source": [
    "df['Hours'] = df['Hours'].replace(['5m'],'5')\n",
    "df['Hours'] =  df['Hours'].astype(np.float)\n",
    "df.info()"
   ]
  },
  {
   "cell_type": "code",
   "execution_count": 22,
   "id": "86a33552",
   "metadata": {},
   "outputs": [],
   "source": [
    "df['Minutes'] = df['Minutes'].fillna(df['Minutes'].mode()[0])\n",
    "df['Minutes'] =  df['Minutes'].astype(np.float)"
   ]
  },
  {
   "cell_type": "code",
   "execution_count": 23,
   "id": "6f033aae",
   "metadata": {},
   "outputs": [
    {
     "name": "stdout",
     "output_type": "stream",
     "text": [
      "<class 'pandas.core.frame.DataFrame'>\n",
      "Int64Index: 2619 entries, 0 to 2670\n",
      "Data columns (total 18 columns):\n",
      " #   Column           Non-Null Count  Dtype         \n",
      "---  ------           --------------  -----         \n",
      " 0   Airline          2619 non-null   object        \n",
      " 1   Date_of_Journey  2619 non-null   datetime64[ns]\n",
      " 2   Source           2619 non-null   object        \n",
      " 3   Destination      2619 non-null   object        \n",
      " 4   Route            2619 non-null   object        \n",
      " 5   Dep_Time         2619 non-null   datetime64[ns]\n",
      " 6   Arrival_Time     2619 non-null   datetime64[ns]\n",
      " 7   Duration         2619 non-null   object        \n",
      " 8   Total_Stops      2619 non-null   object        \n",
      " 9   Additional_Info  2619 non-null   object        \n",
      " 10  Months           2619 non-null   int32         \n",
      " 11  Day              2619 non-null   int32         \n",
      " 12  NewArrival_Time  2619 non-null   object        \n",
      " 13  NewDep_Time      2619 non-null   object        \n",
      " 14  Dep_Hours        2619 non-null   float64       \n",
      " 15  Arrival_Hours    2619 non-null   float64       \n",
      " 16  Hours            2619 non-null   float64       \n",
      " 17  Minutes          2619 non-null   float64       \n",
      "dtypes: datetime64[ns](3), float64(4), int32(2), object(9)\n",
      "memory usage: 368.3+ KB\n"
     ]
    }
   ],
   "source": [
    "df.info()"
   ]
  },
  {
   "cell_type": "markdown",
   "id": "1b353e1d",
   "metadata": {},
   "source": [
    "### Adding New Duration column"
   ]
  },
  {
   "cell_type": "code",
   "execution_count": 24,
   "id": "eab52faa",
   "metadata": {},
   "outputs": [
    {
     "data": {
      "text/html": [
       "<div>\n",
       "<style scoped>\n",
       "    .dataframe tbody tr th:only-of-type {\n",
       "        vertical-align: middle;\n",
       "    }\n",
       "\n",
       "    .dataframe tbody tr th {\n",
       "        vertical-align: top;\n",
       "    }\n",
       "\n",
       "    .dataframe thead th {\n",
       "        text-align: right;\n",
       "    }\n",
       "</style>\n",
       "<table border=\"1\" class=\"dataframe\">\n",
       "  <thead>\n",
       "    <tr style=\"text-align: right;\">\n",
       "      <th></th>\n",
       "      <th>Airline</th>\n",
       "      <th>Date_of_Journey</th>\n",
       "      <th>Source</th>\n",
       "      <th>Destination</th>\n",
       "      <th>Route</th>\n",
       "      <th>Dep_Time</th>\n",
       "      <th>Arrival_Time</th>\n",
       "      <th>Duration</th>\n",
       "      <th>Total_Stops</th>\n",
       "      <th>Additional_Info</th>\n",
       "      <th>Months</th>\n",
       "      <th>Day</th>\n",
       "      <th>NewArrival_Time</th>\n",
       "      <th>NewDep_Time</th>\n",
       "      <th>Dep_Hours</th>\n",
       "      <th>Arrival_Hours</th>\n",
       "      <th>Hours</th>\n",
       "      <th>Minutes</th>\n",
       "      <th>New_Duration</th>\n",
       "    </tr>\n",
       "  </thead>\n",
       "  <tbody>\n",
       "    <tr>\n",
       "      <th>0</th>\n",
       "      <td>Jet Airways</td>\n",
       "      <td>2019-06-06</td>\n",
       "      <td>Delhi</td>\n",
       "      <td>Cochin</td>\n",
       "      <td>DEL → BOM → COK</td>\n",
       "      <td>2021-08-10 17:30:00</td>\n",
       "      <td>2021-06-07 04:25:00</td>\n",
       "      <td>10h 55m</td>\n",
       "      <td>1 stop</td>\n",
       "      <td>No info</td>\n",
       "      <td>6</td>\n",
       "      <td>6</td>\n",
       "      <td>04:25:00</td>\n",
       "      <td>17:30:00</td>\n",
       "      <td>1050.0</td>\n",
       "      <td>265.0</td>\n",
       "      <td>10.0</td>\n",
       "      <td>55.0</td>\n",
       "      <td>655.0</td>\n",
       "    </tr>\n",
       "    <tr>\n",
       "      <th>1</th>\n",
       "      <td>IndiGo</td>\n",
       "      <td>2019-12-05</td>\n",
       "      <td>Kolkata</td>\n",
       "      <td>Banglore</td>\n",
       "      <td>CCU → MAA → BLR</td>\n",
       "      <td>2021-08-10 06:20:00</td>\n",
       "      <td>2021-08-10 10:20:00</td>\n",
       "      <td>4h</td>\n",
       "      <td>1 stop</td>\n",
       "      <td>No info</td>\n",
       "      <td>12</td>\n",
       "      <td>5</td>\n",
       "      <td>10:20:00</td>\n",
       "      <td>06:20:00</td>\n",
       "      <td>380.0</td>\n",
       "      <td>620.0</td>\n",
       "      <td>4.0</td>\n",
       "      <td>30.0</td>\n",
       "      <td>270.0</td>\n",
       "    </tr>\n",
       "  </tbody>\n",
       "</table>\n",
       "</div>"
      ],
      "text/plain": [
       "       Airline Date_of_Journey   Source Destination            Route  \\\n",
       "0  Jet Airways      2019-06-06    Delhi      Cochin  DEL → BOM → COK   \n",
       "1       IndiGo      2019-12-05  Kolkata    Banglore  CCU → MAA → BLR   \n",
       "\n",
       "             Dep_Time        Arrival_Time Duration Total_Stops  \\\n",
       "0 2021-08-10 17:30:00 2021-06-07 04:25:00  10h 55m      1 stop   \n",
       "1 2021-08-10 06:20:00 2021-08-10 10:20:00       4h      1 stop   \n",
       "\n",
       "  Additional_Info  Months  Day NewArrival_Time NewDep_Time  Dep_Hours  \\\n",
       "0         No info       6    6        04:25:00    17:30:00     1050.0   \n",
       "1         No info      12    5        10:20:00    06:20:00      380.0   \n",
       "\n",
       "   Arrival_Hours  Hours  Minutes  New_Duration  \n",
       "0          265.0   10.0     55.0         655.0  \n",
       "1          620.0    4.0     30.0         270.0  "
      ]
     },
     "execution_count": 24,
     "metadata": {},
     "output_type": "execute_result"
    }
   ],
   "source": [
    "df['New_Duration'] = df['Hours']*60 + df['Minutes']\n",
    "df.head(2)"
   ]
  },
  {
   "cell_type": "markdown",
   "id": "40117dcb",
   "metadata": {},
   "source": [
    "### Analysis of Data"
   ]
  },
  {
   "cell_type": "markdown",
   "id": "80f12e7d",
   "metadata": {},
   "source": [
    "### Analysis of Data"
   ]
  },
  {
   "cell_type": "code",
   "execution_count": 25,
   "id": "93ae9a98",
   "metadata": {},
   "outputs": [
    {
     "data": {
      "text/plain": [
       "Jet Airways                          875\n",
       "IndiGo                               507\n",
       "Air India                            424\n",
       "Multiple carriers                    339\n",
       "SpiceJet                             208\n",
       "Vistara                              129\n",
       "Air Asia                              86\n",
       "GoAir                                 44\n",
       "Multiple carriers Premium economy      3\n",
       "Vistara Premium economy                2\n",
       "Jet Airways Business                   2\n",
       "Name: Airline, dtype: int64"
      ]
     },
     "execution_count": 25,
     "metadata": {},
     "output_type": "execute_result"
    }
   ],
   "source": [
    "ar = df['Airline'].value_counts()\n",
    "ar"
   ]
  },
  {
   "cell_type": "code",
   "execution_count": 26,
   "id": "d86012d7",
   "metadata": {},
   "outputs": [
    {
     "data": {
      "image/png": "[encoded data removed]",
      "text/plain": [
       "<Figure size 720x360 with 1 Axes>"
      ]
     },
     "metadata": {
      "needs_background": "light"
     },
     "output_type": "display_data"
    }
   ],
   "source": [
    "ar.plot.barh(figsize = (10,5), color = ['g','c', 'm', 'y','k','tab:brown','b','xkcd:sky blue','tab:olive','tab:gray','r'])\n",
    "plt.ylabel('Airline Company', c = 'r', fontsize = 12)\n",
    "plt.xlabel('Counts of Airline Company', c = 'r', fontsize = 12 )\n",
    "plt.title('Airline Company vs Counts of Airline Company', c = 'r', fontsize = 12)\n",
    "plt.show()"
   ]
  },
  {
   "cell_type": "markdown",
   "id": "4b01e68b",
   "metadata": {},
   "source": [
    "#### Above plot shows Jet Airways has highest and Jet Airways Business has lowest flight counts"
   ]
  },
  {
   "cell_type": "markdown",
   "id": "b592a4a0",
   "metadata": {},
   "source": [
    "### Deleate Unwanted Columns"
   ]
  },
  {
   "cell_type": "code",
   "execution_count": 28,
   "id": "747f6088",
   "metadata": {},
   "outputs": [],
   "source": [
    "col = ['Date_of_Journey','Dep_Time','Arrival_Time','Duration']"
   ]
  },
  {
   "cell_type": "code",
   "execution_count": 29,
   "id": "76b1e476",
   "metadata": {},
   "outputs": [
    {
     "data": {
      "text/html": [
       "<div>\n",
       "<style scoped>\n",
       "    .dataframe tbody tr th:only-of-type {\n",
       "        vertical-align: middle;\n",
       "    }\n",
       "\n",
       "    .dataframe tbody tr th {\n",
       "        vertical-align: top;\n",
       "    }\n",
       "\n",
       "    .dataframe thead th {\n",
       "        text-align: right;\n",
       "    }\n",
       "</style>\n",
       "<table border=\"1\" class=\"dataframe\">\n",
       "  <thead>\n",
       "    <tr style=\"text-align: right;\">\n",
       "      <th></th>\n",
       "      <th>Airline</th>\n",
       "      <th>Source</th>\n",
       "      <th>Destination</th>\n",
       "      <th>Route</th>\n",
       "      <th>Total_Stops</th>\n",
       "      <th>Additional_Info</th>\n",
       "      <th>Months</th>\n",
       "      <th>Day</th>\n",
       "      <th>NewArrival_Time</th>\n",
       "      <th>NewDep_Time</th>\n",
       "      <th>Dep_Hours</th>\n",
       "      <th>Arrival_Hours</th>\n",
       "      <th>Hours</th>\n",
       "      <th>Minutes</th>\n",
       "      <th>New_Duration</th>\n",
       "    </tr>\n",
       "  </thead>\n",
       "  <tbody>\n",
       "    <tr>\n",
       "      <th>0</th>\n",
       "      <td>Jet Airways</td>\n",
       "      <td>Delhi</td>\n",
       "      <td>Cochin</td>\n",
       "      <td>DEL → BOM → COK</td>\n",
       "      <td>1 stop</td>\n",
       "      <td>No info</td>\n",
       "      <td>6</td>\n",
       "      <td>6</td>\n",
       "      <td>04:25:00</td>\n",
       "      <td>17:30:00</td>\n",
       "      <td>1050.0</td>\n",
       "      <td>265.0</td>\n",
       "      <td>10.0</td>\n",
       "      <td>55.0</td>\n",
       "      <td>655.0</td>\n",
       "    </tr>\n",
       "    <tr>\n",
       "      <th>1</th>\n",
       "      <td>IndiGo</td>\n",
       "      <td>Kolkata</td>\n",
       "      <td>Banglore</td>\n",
       "      <td>CCU → MAA → BLR</td>\n",
       "      <td>1 stop</td>\n",
       "      <td>No info</td>\n",
       "      <td>12</td>\n",
       "      <td>5</td>\n",
       "      <td>10:20:00</td>\n",
       "      <td>06:20:00</td>\n",
       "      <td>380.0</td>\n",
       "      <td>620.0</td>\n",
       "      <td>4.0</td>\n",
       "      <td>30.0</td>\n",
       "      <td>270.0</td>\n",
       "    </tr>\n",
       "  </tbody>\n",
       "</table>\n",
       "</div>"
      ],
      "text/plain": [
       "       Airline   Source Destination            Route Total_Stops  \\\n",
       "0  Jet Airways    Delhi      Cochin  DEL → BOM → COK      1 stop   \n",
       "1       IndiGo  Kolkata    Banglore  CCU → MAA → BLR      1 stop   \n",
       "\n",
       "  Additional_Info  Months  Day NewArrival_Time NewDep_Time  Dep_Hours  \\\n",
       "0         No info       6    6        04:25:00    17:30:00     1050.0   \n",
       "1         No info      12    5        10:20:00    06:20:00      380.0   \n",
       "\n",
       "   Arrival_Hours  Hours  Minutes  New_Duration  \n",
       "0          265.0   10.0     55.0         655.0  \n",
       "1          620.0    4.0     30.0         270.0  "
      ]
     },
     "execution_count": 29,
     "metadata": {},
     "output_type": "execute_result"
    }
   ],
   "source": [
    "df = df.drop(col, axis = 1)\n",
    "df.head(2)"
   ]
  },
  {
   "cell_type": "code",
   "execution_count": 30,
   "id": "0eff6765",
   "metadata": {},
   "outputs": [
    {
     "name": "stdout",
     "output_type": "stream",
     "text": [
      "<class 'pandas.core.frame.DataFrame'>\n",
      "Int64Index: 2619 entries, 0 to 2670\n",
      "Data columns (total 15 columns):\n",
      " #   Column           Non-Null Count  Dtype  \n",
      "---  ------           --------------  -----  \n",
      " 0   Airline          2619 non-null   object \n",
      " 1   Source           2619 non-null   object \n",
      " 2   Destination      2619 non-null   object \n",
      " 3   Route            2619 non-null   object \n",
      " 4   Total_Stops      2619 non-null   object \n",
      " 5   Additional_Info  2619 non-null   object \n",
      " 6   Months           2619 non-null   int32  \n",
      " 7   Day              2619 non-null   int32  \n",
      " 8   NewArrival_Time  2619 non-null   object \n",
      " 9   NewDep_Time      2619 non-null   object \n",
      " 10  Dep_Hours        2619 non-null   float64\n",
      " 11  Arrival_Hours    2619 non-null   float64\n",
      " 12  Hours            2619 non-null   float64\n",
      " 13  Minutes          2619 non-null   float64\n",
      " 14  New_Duration     2619 non-null   float64\n",
      "dtypes: float64(5), int32(2), object(8)\n",
      "memory usage: 306.9+ KB\n"
     ]
    }
   ],
   "source": [
    "df.info()"
   ]
  },
  {
   "cell_type": "markdown",
   "id": "f24ed726",
   "metadata": {},
   "source": [
    "### Encodinng Categorical columns"
   ]
  },
  {
   "cell_type": "code",
   "execution_count": 31,
   "id": "310762d6",
   "metadata": {},
   "outputs": [],
   "source": [
    "le = LabelEncoder()"
   ]
  },
  {
   "cell_type": "code",
   "execution_count": 32,
   "id": "b0950dfc",
   "metadata": {},
   "outputs": [
    {
     "name": "stdout",
     "output_type": "stream",
     "text": [
      "<class 'pandas.core.frame.DataFrame'>\n",
      "Int64Index: 2619 entries, 0 to 2670\n",
      "Data columns (total 15 columns):\n",
      " #   Column           Non-Null Count  Dtype  \n",
      "---  ------           --------------  -----  \n",
      " 0   Airline          2619 non-null   int32  \n",
      " 1   Source           2619 non-null   int32  \n",
      " 2   Destination      2619 non-null   int32  \n",
      " 3   Route            2619 non-null   int32  \n",
      " 4   Total_Stops      2619 non-null   int32  \n",
      " 5   Additional_Info  2619 non-null   int32  \n",
      " 6   Months           2619 non-null   int32  \n",
      " 7   Day              2619 non-null   int32  \n",
      " 8   NewArrival_Time  2619 non-null   int32  \n",
      " 9   NewDep_Time      2619 non-null   int32  \n",
      " 10  Dep_Hours        2619 non-null   float64\n",
      " 11  Arrival_Hours    2619 non-null   float64\n",
      " 12  Hours            2619 non-null   float64\n",
      " 13  Minutes          2619 non-null   float64\n",
      " 14  New_Duration     2619 non-null   float64\n",
      "dtypes: float64(5), int32(10)\n",
      "memory usage: 225.1 KB\n"
     ]
    }
   ],
   "source": [
    "df['Airline'] = le.fit_transform(df['Airline'])\n",
    "df['Source'] = le.fit_transform(df['Source'])\n",
    "df['Destination'] = le.fit_transform(df['Destination'])\n",
    "df['Route'] = le.fit_transform(df['Route'])\n",
    "df['Additional_Info'] = le.fit_transform(df['Additional_Info'])\n",
    "df['NewArrival_Time'] = le.fit_transform(df['NewArrival_Time'])\n",
    "df['NewDep_Time'] = le.fit_transform(df['NewDep_Time'])\n",
    "df['Total_Stops'] = le.fit_transform(df['Total_Stops'])\n",
    "df.info()"
   ]
  },
  {
   "cell_type": "markdown",
   "id": "8ee5651a",
   "metadata": {},
   "source": [
    "#### Columns are encoded"
   ]
  },
  {
   "cell_type": "markdown",
   "id": "c6769fa7",
   "metadata": {},
   "source": [
    "### Data distribution"
   ]
  },
  {
   "cell_type": "code",
   "execution_count": 33,
   "id": "23ff97be",
   "metadata": {},
   "outputs": [
    {
     "name": "stdout",
     "output_type": "stream",
     "text": [
      "---------------------\n",
      "Distribution Plot :- \n",
      "---------------------\n"
     ]
    },
    {
     "data": {
      "image/png": "[encoded data removed]",
      "text/plain": [
       "<Figure size 1440x1080 with 15 Axes>"
      ]
     },
     "metadata": {
      "needs_background": "light"
     },
     "output_type": "display_data"
    }
   ],
   "source": [
    "print('---------------------')\n",
    "print('Distribution Plot :- ')\n",
    "print('---------------------')\n",
    "      \n",
    "plt.figure(figsize = (20,15))\n",
    "plotnumber = 1\n",
    "\n",
    "for column in df:\n",
    "    if plotnumber <=16:\n",
    "        ax = plt.subplot(4,4, plotnumber)\n",
    "        sns.distplot(df[column])\n",
    "        plt.xlabel(column)\n",
    "    plotnumber +=1\n",
    "plt.tight_layout()"
   ]
  },
  {
   "cell_type": "markdown",
   "id": "b0c8a069",
   "metadata": {},
   "source": [
    "#### Data distribution is fine"
   ]
  },
  {
   "cell_type": "markdown",
   "id": "872e8b6f",
   "metadata": {},
   "source": [
    "### Data Scaling"
   ]
  },
  {
   "cell_type": "code",
   "execution_count": 34,
   "id": "2b5a53d5",
   "metadata": {},
   "outputs": [
    {
     "data": {
      "text/plain": [
       "array([[ 0.00547242,  0.02859057, -0.2927839 , ..., -0.00667918,\n",
       "         1.7152351 ,  0.04117166],\n",
       "       [-0.42883906,  0.86992434, -0.97620727, ..., -0.72555976,\n",
       "        -0.07820179, -0.72960444],\n",
       "       [ 0.00547242,  0.02859057, -0.2927839 , ...,  1.55089542,\n",
       "         0.99786034,  1.58272386],\n",
       "       ...,\n",
       "       [ 0.00547242,  0.02859057, -0.2927839 , ..., -0.4859329 ,\n",
       "         0.28048559, -0.47935246],\n",
       "       [-1.29746202,  0.02859057, -0.2927839 , ...,  0.59238798,\n",
       "        -1.15426393,  0.56169578],\n",
       "       [ 0.87409539,  0.02859057, -0.2927839 , ...,  0.47257455,\n",
       "        -0.79557655,  0.45158491]])"
      ]
     },
     "execution_count": 34,
     "metadata": {},
     "output_type": "execute_result"
    }
   ],
   "source": [
    "scaler = StandardScaler()\n",
    "x_scaled = scaler.fit_transform(df)\n",
    "x_scaled"
   ]
  },
  {
   "cell_type": "markdown",
   "id": "c24d0afc",
   "metadata": {},
   "source": [
    "### Predict Flight Ticket Price"
   ]
  },
  {
   "cell_type": "code",
   "execution_count": 35,
   "id": "d8a18c6b",
   "metadata": {},
   "outputs": [],
   "source": [
    "model = pickle.load(open('Flight Price Prediction Train.pickle', 'rb'))"
   ]
  },
  {
   "cell_type": "code",
   "execution_count": 37,
   "id": "a5a584ad",
   "metadata": {},
   "outputs": [
    {
     "data": {
      "text/plain": [
       "array([ 9740.454,  4753.524, 14383.318, ..., 14554.69 , 12073.196,\n",
       "        8697.85 ], dtype=float32)"
      ]
     },
     "execution_count": 37,
     "metadata": {},
     "output_type": "execute_result"
    }
   ],
   "source": [
    "price = model.predict(df)\n",
    "price"
   ]
  },
  {
   "cell_type": "code",
   "execution_count": 38,
   "id": "feeaa1ca",
   "metadata": {},
   "outputs": [
    {
     "data": {
      "text/html": [
       "<div>\n",
       "<style scoped>\n",
       "    .dataframe tbody tr th:only-of-type {\n",
       "        vertical-align: middle;\n",
       "    }\n",
       "\n",
       "    .dataframe tbody tr th {\n",
       "        vertical-align: top;\n",
       "    }\n",
       "\n",
       "    .dataframe thead th {\n",
       "        text-align: right;\n",
       "    }\n",
       "</style>\n",
       "<table border=\"1\" class=\"dataframe\">\n",
       "  <thead>\n",
       "    <tr style=\"text-align: right;\">\n",
       "      <th></th>\n",
       "      <th>0</th>\n",
       "    </tr>\n",
       "  </thead>\n",
       "  <tbody>\n",
       "    <tr>\n",
       "      <th>0</th>\n",
       "      <td>9740.454102</td>\n",
       "    </tr>\n",
       "    <tr>\n",
       "      <th>1</th>\n",
       "      <td>4753.523926</td>\n",
       "    </tr>\n",
       "    <tr>\n",
       "      <th>2</th>\n",
       "      <td>14383.318359</td>\n",
       "    </tr>\n",
       "    <tr>\n",
       "      <th>3</th>\n",
       "      <td>8538.320312</td>\n",
       "    </tr>\n",
       "    <tr>\n",
       "      <th>4</th>\n",
       "      <td>4594.645508</td>\n",
       "    </tr>\n",
       "    <tr>\n",
       "      <th>...</th>\n",
       "      <td>...</td>\n",
       "    </tr>\n",
       "    <tr>\n",
       "      <th>2614</th>\n",
       "      <td>8654.800781</td>\n",
       "    </tr>\n",
       "    <tr>\n",
       "      <th>2615</th>\n",
       "      <td>4403.861328</td>\n",
       "    </tr>\n",
       "    <tr>\n",
       "      <th>2616</th>\n",
       "      <td>14554.690430</td>\n",
       "    </tr>\n",
       "    <tr>\n",
       "      <th>2617</th>\n",
       "      <td>12073.196289</td>\n",
       "    </tr>\n",
       "    <tr>\n",
       "      <th>2618</th>\n",
       "      <td>8697.849609</td>\n",
       "    </tr>\n",
       "  </tbody>\n",
       "</table>\n",
       "<p>2619 rows × 1 columns</p>\n",
       "</div>"
      ],
      "text/plain": [
       "                 0\n",
       "0      9740.454102\n",
       "1      4753.523926\n",
       "2     14383.318359\n",
       "3      8538.320312\n",
       "4      4594.645508\n",
       "...            ...\n",
       "2614   8654.800781\n",
       "2615   4403.861328\n",
       "2616  14554.690430\n",
       "2617  12073.196289\n",
       "2618   8697.849609\n",
       "\n",
       "[2619 rows x 1 columns]"
      ]
     },
     "execution_count": 38,
     "metadata": {},
     "output_type": "execute_result"
    }
   ],
   "source": [
    "pred = pd.DataFrame(price)\n",
    "pred"
   ]
  },
  {
   "cell_type": "markdown",
   "id": "a03a9ba9",
   "metadata": {},
   "source": [
    "### Saving Predicted Flight Ticket Price into CSV file"
   ]
  },
  {
   "cell_type": "code",
   "execution_count": 39,
   "id": "cc5635d3",
   "metadata": {},
   "outputs": [],
   "source": [
    "pred.to_csv('Predicted Flight Ticket Price.csv', index = False)"
   ]
  },
  {
   "cell_type": "code",
   "execution_count": null,
   "id": "aec80fb0",
   "metadata": {},
   "outputs": [],
   "source": []
  }
 ],
 "metadata": {
  "kernelspec": {
   "display_name": "Python 3",
   "language": "python",
   "name": "python3"
  },
  "language_info": {
   "codemirror_mode": {
    "name": "ipython",
    "version": 3
   },
   "file_extension": ".py",
   "mimetype": "text/x-python",
   "name": "python",
   "nbconvert_exporter": "python",
   "pygments_lexer": "ipython3",
   "version": "3.8.8"
  }
 },
 "nbformat": 4,
 "nbformat_minor": 5
}
