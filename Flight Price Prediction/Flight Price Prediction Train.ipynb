{
 "cells": [
  {
   "cell_type": "markdown",
   "id": "f6913d7c",
   "metadata": {},
   "source": [
    "### Problem Statement:\n",
    "\n",
    "**Flight ticket prices can be something hard to guess, today we might see a price, check out the price of the same flight tomorrow, it will be a different story. We might have often heard travellers saying that flight ticket prices are so unpredictable. Here you will be provided with prices of flight tickets for various airlines between the months of March and June of 2019 and between various cities.Build a machine learning model to predict the price of the flight ticket.** "
   ]
  },
  {
   "cell_type": "markdown",
   "id": "bc7f3ad5",
   "metadata": {},
   "source": [
    "### Importing Required Library"
   ]
  },
  {
   "cell_type": "code",
   "execution_count": 50,
   "id": "bca9fc58",
   "metadata": {},
   "outputs": [],
   "source": [
    "import pandas as pd \n",
    "import numpy as np\n",
    "import matplotlib.pyplot as plt\n",
    "import seaborn as sns\n",
    "import pickle \n",
    "import datetime\n",
    "pd.set_option('Display.max_columns', None)\n",
    "from sklearn.preprocessing import StandardScaler, LabelEncoder\n",
    "from sklearn.decomposition import PCA\n",
    "from sklearn.model_selection import train_test_split, cross_val_score, GridSearchCV\n",
    "from sklearn.tree import DecisionTreeRegressor\n",
    "from sklearn.linear_model import LinearRegression\n",
    "from sklearn.neighbors import KNeighborsRegressor\n",
    "from sklearn.ensemble import RandomForestRegressor, BaggingRegressor\n",
    "import xgboost as xgb\n",
    "from sklearn.metrics import r2_score, mean_squared_error\n",
    "%matplotlib inline\n",
    "\n",
    "import warnings\n",
    "warnings.filterwarnings('ignore')"
   ]
  },
  {
   "cell_type": "markdown",
   "id": "8e0dafe6",
   "metadata": {},
   "source": [
    "### Reading Data"
   ]
  },
  {
   "cell_type": "code",
   "execution_count": 2,
   "id": "8434170f",
   "metadata": {},
   "outputs": [
    {
     "data": {
      "text/html": [
       "<div>\n",
       "<style scoped>\n",
       "    .dataframe tbody tr th:only-of-type {\n",
       "        vertical-align: middle;\n",
       "    }\n",
       "\n",
       "    .dataframe tbody tr th {\n",
       "        vertical-align: top;\n",
       "    }\n",
       "\n",
       "    .dataframe thead th {\n",
       "        text-align: right;\n",
       "    }\n",
       "</style>\n",
       "<table border=\"1\" class=\"dataframe\">\n",
       "  <thead>\n",
       "    <tr style=\"text-align: right;\">\n",
       "      <th></th>\n",
       "      <th>Airline</th>\n",
       "      <th>Date_of_Journey</th>\n",
       "      <th>Source</th>\n",
       "      <th>Destination</th>\n",
       "      <th>Route</th>\n",
       "      <th>Dep_Time</th>\n",
       "      <th>Arrival_Time</th>\n",
       "      <th>Duration</th>\n",
       "      <th>Total_Stops</th>\n",
       "      <th>Additional_Info</th>\n",
       "      <th>Price</th>\n",
       "    </tr>\n",
       "  </thead>\n",
       "  <tbody>\n",
       "    <tr>\n",
       "      <th>0</th>\n",
       "      <td>IndiGo</td>\n",
       "      <td>24/03/2019</td>\n",
       "      <td>Banglore</td>\n",
       "      <td>New Delhi</td>\n",
       "      <td>BLR → DEL</td>\n",
       "      <td>22:20</td>\n",
       "      <td>01:10 22 Mar</td>\n",
       "      <td>2h 50m</td>\n",
       "      <td>non-stop</td>\n",
       "      <td>No info</td>\n",
       "      <td>3897</td>\n",
       "    </tr>\n",
       "    <tr>\n",
       "      <th>1</th>\n",
       "      <td>Air India</td>\n",
       "      <td>1/05/2019</td>\n",
       "      <td>Kolkata</td>\n",
       "      <td>Banglore</td>\n",
       "      <td>CCU → IXR → BBI → BLR</td>\n",
       "      <td>05:50</td>\n",
       "      <td>13:15</td>\n",
       "      <td>7h 25m</td>\n",
       "      <td>2 stops</td>\n",
       "      <td>No info</td>\n",
       "      <td>7662</td>\n",
       "    </tr>\n",
       "    <tr>\n",
       "      <th>2</th>\n",
       "      <td>Jet Airways</td>\n",
       "      <td>9/06/2019</td>\n",
       "      <td>Delhi</td>\n",
       "      <td>Cochin</td>\n",
       "      <td>DEL → LKO → BOM → COK</td>\n",
       "      <td>09:25</td>\n",
       "      <td>04:25 10 Jun</td>\n",
       "      <td>19h</td>\n",
       "      <td>2 stops</td>\n",
       "      <td>No info</td>\n",
       "      <td>13882</td>\n",
       "    </tr>\n",
       "    <tr>\n",
       "      <th>3</th>\n",
       "      <td>IndiGo</td>\n",
       "      <td>12/05/2019</td>\n",
       "      <td>Kolkata</td>\n",
       "      <td>Banglore</td>\n",
       "      <td>CCU → NAG → BLR</td>\n",
       "      <td>18:05</td>\n",
       "      <td>23:30</td>\n",
       "      <td>5h 25m</td>\n",
       "      <td>1 stop</td>\n",
       "      <td>No info</td>\n",
       "      <td>6218</td>\n",
       "    </tr>\n",
       "    <tr>\n",
       "      <th>4</th>\n",
       "      <td>IndiGo</td>\n",
       "      <td>01/03/2019</td>\n",
       "      <td>Banglore</td>\n",
       "      <td>New Delhi</td>\n",
       "      <td>BLR → NAG → DEL</td>\n",
       "      <td>16:50</td>\n",
       "      <td>21:35</td>\n",
       "      <td>4h 45m</td>\n",
       "      <td>1 stop</td>\n",
       "      <td>No info</td>\n",
       "      <td>13302</td>\n",
       "    </tr>\n",
       "  </tbody>\n",
       "</table>\n",
       "</div>"
      ],
      "text/plain": [
       "       Airline Date_of_Journey    Source Destination                  Route  \\\n",
       "0       IndiGo      24/03/2019  Banglore   New Delhi              BLR → DEL   \n",
       "1    Air India       1/05/2019   Kolkata    Banglore  CCU → IXR → BBI → BLR   \n",
       "2  Jet Airways       9/06/2019     Delhi      Cochin  DEL → LKO → BOM → COK   \n",
       "3       IndiGo      12/05/2019   Kolkata    Banglore        CCU → NAG → BLR   \n",
       "4       IndiGo      01/03/2019  Banglore   New Delhi        BLR → NAG → DEL   \n",
       "\n",
       "  Dep_Time  Arrival_Time Duration Total_Stops Additional_Info  Price  \n",
       "0    22:20  01:10 22 Mar   2h 50m    non-stop         No info   3897  \n",
       "1    05:50         13:15   7h 25m     2 stops         No info   7662  \n",
       "2    09:25  04:25 10 Jun      19h     2 stops         No info  13882  \n",
       "3    18:05         23:30   5h 25m      1 stop         No info   6218  \n",
       "4    16:50         21:35   4h 45m      1 stop         No info  13302  "
      ]
     },
     "execution_count": 2,
     "metadata": {},
     "output_type": "execute_result"
    }
   ],
   "source": [
    "df = pd.read_excel(r\"C:\\Users\\Kushal Arya\\Desktop\\csv file\\Flight_Ticket_Participant_Datasets\\Data_Train.xlsx\")\n",
    "df.head()"
   ]
  },
  {
   "cell_type": "markdown",
   "id": "b5892906",
   "metadata": {},
   "source": [
    "### Check no of row and column"
   ]
  },
  {
   "cell_type": "code",
   "execution_count": 3,
   "id": "6bd695e5",
   "metadata": {},
   "outputs": [
    {
     "name": "stdout",
     "output_type": "stream",
     "text": [
      "No of Rows and Columns -----> (10683, 11)\n"
     ]
    }
   ],
   "source": [
    "print('No of Rows and Columns ----->', df.shape )"
   ]
  },
  {
   "cell_type": "markdown",
   "id": "d1c170fb",
   "metadata": {},
   "source": [
    "### Checking for Null values"
   ]
  },
  {
   "cell_type": "code",
   "execution_count": 4,
   "id": "e0530d3b",
   "metadata": {},
   "outputs": [
    {
     "name": "stdout",
     "output_type": "stream",
     "text": [
      "================================\n",
      "\n",
      "Airline            0\n",
      "Date_of_Journey    0\n",
      "Source             0\n",
      "Destination        0\n",
      "Route              1\n",
      "Dep_Time           0\n",
      "Arrival_Time       0\n",
      "Duration           0\n",
      "Total_Stops        1\n",
      "Additional_Info    0\n",
      "Price              0\n",
      "dtype: int64\n",
      "\n",
      "================================\n"
     ]
    }
   ],
   "source": [
    "print('================================\\n')\n",
    "print(df.isnull().sum())\n",
    "print('\\n================================')"
   ]
  },
  {
   "cell_type": "markdown",
   "id": "675b1a9f",
   "metadata": {},
   "source": [
    "#### There is null value"
   ]
  },
  {
   "cell_type": "markdown",
   "id": "2e4c3eb7",
   "metadata": {},
   "source": [
    "### Drop NaN"
   ]
  },
  {
   "cell_type": "code",
   "execution_count": 3,
   "id": "6a349241",
   "metadata": {},
   "outputs": [],
   "source": [
    "df = df.dropna()"
   ]
  },
  {
   "cell_type": "markdown",
   "id": "949cf409",
   "metadata": {},
   "source": [
    "### Check NaN remove or not"
   ]
  },
  {
   "cell_type": "code",
   "execution_count": 4,
   "id": "892bd23c",
   "metadata": {},
   "outputs": [
    {
     "name": "stdout",
     "output_type": "stream",
     "text": [
      "================================\n",
      "\n",
      "Airline            0\n",
      "Date_of_Journey    0\n",
      "Source             0\n",
      "Destination        0\n",
      "Route              0\n",
      "Dep_Time           0\n",
      "Arrival_Time       0\n",
      "Duration           0\n",
      "Total_Stops        0\n",
      "Additional_Info    0\n",
      "Price              0\n",
      "dtype: int64\n",
      "\n",
      "================================\n"
     ]
    }
   ],
   "source": [
    "print('================================\\n')\n",
    "print(df.isnull().sum())\n",
    "print('\\n================================')"
   ]
  },
  {
   "cell_type": "markdown",
   "id": "8411a389",
   "metadata": {},
   "source": [
    "#### Nan are removed"
   ]
  },
  {
   "cell_type": "markdown",
   "id": "e67b7317",
   "metadata": {},
   "source": [
    "### Information about dataset"
   ]
  },
  {
   "cell_type": "code",
   "execution_count": 7,
   "id": "beb041e4",
   "metadata": {},
   "outputs": [
    {
     "name": "stdout",
     "output_type": "stream",
     "text": [
      "==================================================\n",
      "\n",
      "<class 'pandas.core.frame.DataFrame'>\n",
      "Int64Index: 10682 entries, 0 to 10682\n",
      "Data columns (total 11 columns):\n",
      " #   Column           Non-Null Count  Dtype \n",
      "---  ------           --------------  ----- \n",
      " 0   Airline          10682 non-null  object\n",
      " 1   Date_of_Journey  10682 non-null  object\n",
      " 2   Source           10682 non-null  object\n",
      " 3   Destination      10682 non-null  object\n",
      " 4   Route            10682 non-null  object\n",
      " 5   Dep_Time         10682 non-null  object\n",
      " 6   Arrival_Time     10682 non-null  object\n",
      " 7   Duration         10682 non-null  object\n",
      " 8   Total_Stops      10682 non-null  object\n",
      " 9   Additional_Info  10682 non-null  object\n",
      " 10  Price            10682 non-null  int64 \n",
      "dtypes: int64(1), object(10)\n",
      "memory usage: 1001.4+ KB\n",
      "None\n",
      "====================================================\n"
     ]
    }
   ],
   "source": [
    "print('==================================================\\n')\n",
    "print(df.info())\n",
    "print('====================================================')"
   ]
  },
  {
   "cell_type": "markdown",
   "id": "a0d7149c",
   "metadata": {},
   "source": [
    "#### Categorical data present in our data set"
   ]
  },
  {
   "cell_type": "markdown",
   "id": "4053bc69",
   "metadata": {},
   "source": [
    "### Checking For Duplicate "
   ]
  },
  {
   "cell_type": "code",
   "execution_count": 5,
   "id": "3d19b497",
   "metadata": {},
   "outputs": [
    {
     "name": "stdout",
     "output_type": "stream",
     "text": [
      "==========================================================================\n",
      "Duplicate Rows :\n",
      "\n",
      "            Airline Date_of_Journey    Source Destination  \\\n",
      "683    Jet Airways       1/06/2019     Delhi      Cochin   \n",
      "1061     Air India      21/05/2019     Delhi      Cochin   \n",
      "1348     Air India      18/05/2019     Delhi      Cochin   \n",
      "1418   Jet Airways       6/06/2019     Delhi      Cochin   \n",
      "1674        IndiGo      24/03/2019  Banglore   New Delhi   \n",
      "...            ...             ...       ...         ...   \n",
      "10594  Jet Airways      27/06/2019     Delhi      Cochin   \n",
      "10616  Jet Airways       1/06/2019     Delhi      Cochin   \n",
      "10634  Jet Airways       6/06/2019     Delhi      Cochin   \n",
      "10672  Jet Airways      27/06/2019     Delhi      Cochin   \n",
      "10673  Jet Airways      27/05/2019     Delhi      Cochin   \n",
      "\n",
      "                       Route Dep_Time  Arrival_Time Duration Total_Stops  \\\n",
      "683    DEL → NAG → BOM → COK    14:35  04:25 02 Jun  13h 50m     2 stops   \n",
      "1061   DEL → GOI → BOM → COK    22:00  19:15 22 May  21h 15m     2 stops   \n",
      "1348   DEL → HYD → BOM → COK    17:15  19:15 19 May      26h     2 stops   \n",
      "1418   DEL → JAI → BOM → COK    05:30  04:25 07 Jun  22h 55m     2 stops   \n",
      "1674               BLR → DEL    18:25         21:20   2h 55m    non-stop   \n",
      "...                      ...      ...           ...      ...         ...   \n",
      "10594  DEL → AMD → BOM → COK    23:05  12:35 28 Jun  13h 30m     2 stops   \n",
      "10616  DEL → JAI → BOM → COK    09:40  12:35 02 Jun  26h 55m     2 stops   \n",
      "10634  DEL → JAI → BOM → COK    09:40  12:35 07 Jun  26h 55m     2 stops   \n",
      "10672  DEL → AMD → BOM → COK    23:05  19:00 28 Jun  19h 55m     2 stops   \n",
      "10673  DEL → AMD → BOM → COK    13:25  04:25 28 May      15h     2 stops   \n",
      "\n",
      "                   Additional_Info  Price  \n",
      "683                        No info  13376  \n",
      "1061                       No info  10231  \n",
      "1348                       No info  12392  \n",
      "1418   In-flight meal not included  10368  \n",
      "1674                       No info   7303  \n",
      "...                            ...    ...  \n",
      "10594                      No info  12819  \n",
      "10616                      No info  13014  \n",
      "10634  In-flight meal not included  11733  \n",
      "10672  In-flight meal not included  11150  \n",
      "10673                      No info  16704  \n",
      "\n",
      "[220 rows x 11 columns]\n",
      "==========================================================================\n"
     ]
    }
   ],
   "source": [
    "duplicate = df[df.duplicated()]\n",
    "print('==========================================================================')\n",
    "print(\"Duplicate Rows :\\n\\n\",duplicate)\n",
    "print('==========================================================================')"
   ]
  },
  {
   "cell_type": "markdown",
   "id": "b47af3fc",
   "metadata": {},
   "source": [
    "### Droping Duplicates"
   ]
  },
  {
   "cell_type": "code",
   "execution_count": 4,
   "id": "db85c97c",
   "metadata": {},
   "outputs": [],
   "source": [
    "df.drop_duplicates(keep=False,inplace=True)"
   ]
  },
  {
   "cell_type": "code",
   "execution_count": 5,
   "id": "46e1c199",
   "metadata": {},
   "outputs": [
    {
     "name": "stdout",
     "output_type": "stream",
     "text": [
      "After removing duplicates No of Rows and Columns  -----> (10267, 11)\n"
     ]
    }
   ],
   "source": [
    "print('After removing duplicates No of Rows and Columns  ----->', df.shape )"
   ]
  },
  {
   "cell_type": "markdown",
   "id": "2ff1d9a1",
   "metadata": {},
   "source": [
    "### Features Engineering"
   ]
  },
  {
   "cell_type": "markdown",
   "id": "464a86e6",
   "metadata": {},
   "source": [
    "### Add Months Column"
   ]
  },
  {
   "cell_type": "code",
   "execution_count": 6,
   "id": "f6bb237c",
   "metadata": {},
   "outputs": [],
   "source": [
    "df['Date_of_Journey'] = pd.to_datetime(df['Date_of_Journey'])"
   ]
  },
  {
   "cell_type": "code",
   "execution_count": 7,
   "id": "7747b9cf",
   "metadata": {},
   "outputs": [
    {
     "data": {
      "text/html": [
       "<div>\n",
       "<style scoped>\n",
       "    .dataframe tbody tr th:only-of-type {\n",
       "        vertical-align: middle;\n",
       "    }\n",
       "\n",
       "    .dataframe tbody tr th {\n",
       "        vertical-align: top;\n",
       "    }\n",
       "\n",
       "    .dataframe thead th {\n",
       "        text-align: right;\n",
       "    }\n",
       "</style>\n",
       "<table border=\"1\" class=\"dataframe\">\n",
       "  <thead>\n",
       "    <tr style=\"text-align: right;\">\n",
       "      <th></th>\n",
       "      <th>Airline</th>\n",
       "      <th>Date_of_Journey</th>\n",
       "      <th>Source</th>\n",
       "      <th>Destination</th>\n",
       "      <th>Route</th>\n",
       "      <th>Dep_Time</th>\n",
       "      <th>Arrival_Time</th>\n",
       "      <th>Duration</th>\n",
       "      <th>Total_Stops</th>\n",
       "      <th>Additional_Info</th>\n",
       "      <th>Price</th>\n",
       "      <th>Months</th>\n",
       "    </tr>\n",
       "  </thead>\n",
       "  <tbody>\n",
       "    <tr>\n",
       "      <th>0</th>\n",
       "      <td>IndiGo</td>\n",
       "      <td>2019-03-24</td>\n",
       "      <td>Banglore</td>\n",
       "      <td>New Delhi</td>\n",
       "      <td>BLR → DEL</td>\n",
       "      <td>22:20</td>\n",
       "      <td>01:10 22 Mar</td>\n",
       "      <td>2h 50m</td>\n",
       "      <td>non-stop</td>\n",
       "      <td>No info</td>\n",
       "      <td>3897</td>\n",
       "      <td>3</td>\n",
       "    </tr>\n",
       "    <tr>\n",
       "      <th>1</th>\n",
       "      <td>Air India</td>\n",
       "      <td>2019-01-05</td>\n",
       "      <td>Kolkata</td>\n",
       "      <td>Banglore</td>\n",
       "      <td>CCU → IXR → BBI → BLR</td>\n",
       "      <td>05:50</td>\n",
       "      <td>13:15</td>\n",
       "      <td>7h 25m</td>\n",
       "      <td>2 stops</td>\n",
       "      <td>No info</td>\n",
       "      <td>7662</td>\n",
       "      <td>1</td>\n",
       "    </tr>\n",
       "  </tbody>\n",
       "</table>\n",
       "</div>"
      ],
      "text/plain": [
       "     Airline Date_of_Journey    Source Destination                  Route  \\\n",
       "0     IndiGo      2019-03-24  Banglore   New Delhi              BLR → DEL   \n",
       "1  Air India      2019-01-05   Kolkata    Banglore  CCU → IXR → BBI → BLR   \n",
       "\n",
       "  Dep_Time  Arrival_Time Duration Total_Stops Additional_Info  Price  Months  \n",
       "0    22:20  01:10 22 Mar   2h 50m    non-stop         No info   3897       3  \n",
       "1    05:50         13:15   7h 25m     2 stops         No info   7662       1  "
      ]
     },
     "execution_count": 7,
     "metadata": {},
     "output_type": "execute_result"
    }
   ],
   "source": [
    "df['Months'] = df['Date_of_Journey'].dt.month\n",
    "df['Months'] = df['Months'].astype('int')\n",
    "df.head(2)"
   ]
  },
  {
   "cell_type": "code",
   "execution_count": 13,
   "id": "ef85a41a",
   "metadata": {},
   "outputs": [
    {
     "data": {
      "text/plain": [
       "6     2403\n",
       "3     2129\n",
       "5     1984\n",
       "9     1349\n",
       "1     1043\n",
       "12     935\n",
       "4      424\n",
       "Name: Months, dtype: int64"
      ]
     },
     "execution_count": 13,
     "metadata": {},
     "output_type": "execute_result"
    }
   ],
   "source": [
    "df['Months'].value_counts()"
   ]
  },
  {
   "cell_type": "code",
   "execution_count": 14,
   "id": "502fbe00",
   "metadata": {},
   "outputs": [
    {
     "data": {
      "text/plain": [
       "dtype('int32')"
      ]
     },
     "execution_count": 14,
     "metadata": {},
     "output_type": "execute_result"
    }
   ],
   "source": [
    "df['Months'].dtype"
   ]
  },
  {
   "cell_type": "markdown",
   "id": "69a107f9",
   "metadata": {},
   "source": [
    "### Add Day Column"
   ]
  },
  {
   "cell_type": "code",
   "execution_count": 8,
   "id": "f101672f",
   "metadata": {},
   "outputs": [
    {
     "data": {
      "text/html": [
       "<div>\n",
       "<style scoped>\n",
       "    .dataframe tbody tr th:only-of-type {\n",
       "        vertical-align: middle;\n",
       "    }\n",
       "\n",
       "    .dataframe tbody tr th {\n",
       "        vertical-align: top;\n",
       "    }\n",
       "\n",
       "    .dataframe thead th {\n",
       "        text-align: right;\n",
       "    }\n",
       "</style>\n",
       "<table border=\"1\" class=\"dataframe\">\n",
       "  <thead>\n",
       "    <tr style=\"text-align: right;\">\n",
       "      <th></th>\n",
       "      <th>Airline</th>\n",
       "      <th>Date_of_Journey</th>\n",
       "      <th>Source</th>\n",
       "      <th>Destination</th>\n",
       "      <th>Route</th>\n",
       "      <th>Dep_Time</th>\n",
       "      <th>Arrival_Time</th>\n",
       "      <th>Duration</th>\n",
       "      <th>Total_Stops</th>\n",
       "      <th>Additional_Info</th>\n",
       "      <th>Price</th>\n",
       "      <th>Months</th>\n",
       "      <th>Day</th>\n",
       "    </tr>\n",
       "  </thead>\n",
       "  <tbody>\n",
       "    <tr>\n",
       "      <th>0</th>\n",
       "      <td>IndiGo</td>\n",
       "      <td>2019-03-24</td>\n",
       "      <td>Banglore</td>\n",
       "      <td>New Delhi</td>\n",
       "      <td>BLR → DEL</td>\n",
       "      <td>22:20</td>\n",
       "      <td>01:10 22 Mar</td>\n",
       "      <td>2h 50m</td>\n",
       "      <td>non-stop</td>\n",
       "      <td>No info</td>\n",
       "      <td>3897</td>\n",
       "      <td>3</td>\n",
       "      <td>24</td>\n",
       "    </tr>\n",
       "    <tr>\n",
       "      <th>1</th>\n",
       "      <td>Air India</td>\n",
       "      <td>2019-01-05</td>\n",
       "      <td>Kolkata</td>\n",
       "      <td>Banglore</td>\n",
       "      <td>CCU → IXR → BBI → BLR</td>\n",
       "      <td>05:50</td>\n",
       "      <td>13:15</td>\n",
       "      <td>7h 25m</td>\n",
       "      <td>2 stops</td>\n",
       "      <td>No info</td>\n",
       "      <td>7662</td>\n",
       "      <td>1</td>\n",
       "      <td>5</td>\n",
       "    </tr>\n",
       "  </tbody>\n",
       "</table>\n",
       "</div>"
      ],
      "text/plain": [
       "     Airline Date_of_Journey    Source Destination                  Route  \\\n",
       "0     IndiGo      2019-03-24  Banglore   New Delhi              BLR → DEL   \n",
       "1  Air India      2019-01-05   Kolkata    Banglore  CCU → IXR → BBI → BLR   \n",
       "\n",
       "  Dep_Time  Arrival_Time Duration Total_Stops Additional_Info  Price  Months  \\\n",
       "0    22:20  01:10 22 Mar   2h 50m    non-stop         No info   3897       3   \n",
       "1    05:50         13:15   7h 25m     2 stops         No info   7662       1   \n",
       "\n",
       "   Day  \n",
       "0   24  \n",
       "1    5  "
      ]
     },
     "execution_count": 8,
     "metadata": {},
     "output_type": "execute_result"
    }
   ],
   "source": [
    "df['Day'] = df['Date_of_Journey'].dt.day\n",
    "df['Day'] = df['Day'].astype('int')\n",
    "df.head(2)"
   ]
  },
  {
   "cell_type": "code",
   "execution_count": 16,
   "id": "ea0fa39c",
   "metadata": {},
   "outputs": [
    {
     "data": {
      "text/plain": [
       "6     2064\n",
       "5     1355\n",
       "3     1328\n",
       "21    1063\n",
       "27    1057\n",
       "24     996\n",
       "15     952\n",
       "18     799\n",
       "4      653\n",
       "Name: Day, dtype: int64"
      ]
     },
     "execution_count": 16,
     "metadata": {},
     "output_type": "execute_result"
    }
   ],
   "source": [
    "df['Day'].value_counts()"
   ]
  },
  {
   "cell_type": "code",
   "execution_count": 17,
   "id": "5f164bda",
   "metadata": {},
   "outputs": [
    {
     "data": {
      "text/plain": [
       "dtype('int32')"
      ]
     },
     "execution_count": 17,
     "metadata": {},
     "output_type": "execute_result"
    }
   ],
   "source": [
    "df['Day'].dtype"
   ]
  },
  {
   "cell_type": "markdown",
   "id": "96adddb7",
   "metadata": {},
   "source": [
    "### Add New Arrival Column"
   ]
  },
  {
   "cell_type": "code",
   "execution_count": 18,
   "id": "8eb5de28",
   "metadata": {},
   "outputs": [
    {
     "data": {
      "text/plain": [
       "19:00           401\n",
       "21:00           360\n",
       "19:15           333\n",
       "16:10           154\n",
       "12:35           122\n",
       "               ... \n",
       "18:30 22 May      1\n",
       "01:10 16 Mar      1\n",
       "04:25 02 May      1\n",
       "23:00 22 Apr      1\n",
       "01:20 28 Jun      1\n",
       "Name: Arrival_Time, Length: 1335, dtype: int64"
      ]
     },
     "execution_count": 18,
     "metadata": {},
     "output_type": "execute_result"
    }
   ],
   "source": [
    "df['Arrival_Time'].value_counts()"
   ]
  },
  {
   "cell_type": "code",
   "execution_count": 9,
   "id": "cb7f1b7d",
   "metadata": {},
   "outputs": [],
   "source": [
    "df['Arrival_Time'] = pd.to_datetime(df['Arrival_Time'])"
   ]
  },
  {
   "cell_type": "code",
   "execution_count": 10,
   "id": "1ba6203a",
   "metadata": {},
   "outputs": [
    {
     "data": {
      "text/html": [
       "<div>\n",
       "<style scoped>\n",
       "    .dataframe tbody tr th:only-of-type {\n",
       "        vertical-align: middle;\n",
       "    }\n",
       "\n",
       "    .dataframe tbody tr th {\n",
       "        vertical-align: top;\n",
       "    }\n",
       "\n",
       "    .dataframe thead th {\n",
       "        text-align: right;\n",
       "    }\n",
       "</style>\n",
       "<table border=\"1\" class=\"dataframe\">\n",
       "  <thead>\n",
       "    <tr style=\"text-align: right;\">\n",
       "      <th></th>\n",
       "      <th>Airline</th>\n",
       "      <th>Date_of_Journey</th>\n",
       "      <th>Source</th>\n",
       "      <th>Destination</th>\n",
       "      <th>Route</th>\n",
       "      <th>Dep_Time</th>\n",
       "      <th>Arrival_Time</th>\n",
       "      <th>Duration</th>\n",
       "      <th>Total_Stops</th>\n",
       "      <th>Additional_Info</th>\n",
       "      <th>Price</th>\n",
       "      <th>Months</th>\n",
       "      <th>Day</th>\n",
       "      <th>NewArrival_Time</th>\n",
       "    </tr>\n",
       "  </thead>\n",
       "  <tbody>\n",
       "    <tr>\n",
       "      <th>0</th>\n",
       "      <td>IndiGo</td>\n",
       "      <td>2019-03-24</td>\n",
       "      <td>Banglore</td>\n",
       "      <td>New Delhi</td>\n",
       "      <td>BLR → DEL</td>\n",
       "      <td>22:20</td>\n",
       "      <td>2021-03-22 01:10:00</td>\n",
       "      <td>2h 50m</td>\n",
       "      <td>non-stop</td>\n",
       "      <td>No info</td>\n",
       "      <td>3897</td>\n",
       "      <td>3</td>\n",
       "      <td>24</td>\n",
       "      <td>01:10:00</td>\n",
       "    </tr>\n",
       "    <tr>\n",
       "      <th>1</th>\n",
       "      <td>Air India</td>\n",
       "      <td>2019-01-05</td>\n",
       "      <td>Kolkata</td>\n",
       "      <td>Banglore</td>\n",
       "      <td>CCU → IXR → BBI → BLR</td>\n",
       "      <td>05:50</td>\n",
       "      <td>2021-08-10 13:15:00</td>\n",
       "      <td>7h 25m</td>\n",
       "      <td>2 stops</td>\n",
       "      <td>No info</td>\n",
       "      <td>7662</td>\n",
       "      <td>1</td>\n",
       "      <td>5</td>\n",
       "      <td>13:15:00</td>\n",
       "    </tr>\n",
       "  </tbody>\n",
       "</table>\n",
       "</div>"
      ],
      "text/plain": [
       "     Airline Date_of_Journey    Source Destination                  Route  \\\n",
       "0     IndiGo      2019-03-24  Banglore   New Delhi              BLR → DEL   \n",
       "1  Air India      2019-01-05   Kolkata    Banglore  CCU → IXR → BBI → BLR   \n",
       "\n",
       "  Dep_Time        Arrival_Time Duration Total_Stops Additional_Info  Price  \\\n",
       "0    22:20 2021-03-22 01:10:00   2h 50m    non-stop         No info   3897   \n",
       "1    05:50 2021-08-10 13:15:00   7h 25m     2 stops         No info   7662   \n",
       "\n",
       "   Months  Day NewArrival_Time  \n",
       "0       3   24        01:10:00  \n",
       "1       1    5        13:15:00  "
      ]
     },
     "execution_count": 10,
     "metadata": {},
     "output_type": "execute_result"
    }
   ],
   "source": [
    "df['NewArrival_Time'] = df['Arrival_Time'].dt.time\n",
    "df.head(2)"
   ]
  },
  {
   "cell_type": "code",
   "execution_count": 21,
   "id": "07bc1190",
   "metadata": {
    "scrolled": true
   },
   "outputs": [
    {
     "name": "stdout",
     "output_type": "stream",
     "text": [
      "<class 'pandas.core.frame.DataFrame'>\n",
      "Int64Index: 10267 entries, 0 to 10682\n",
      "Data columns (total 14 columns):\n",
      " #   Column           Non-Null Count  Dtype         \n",
      "---  ------           --------------  -----         \n",
      " 0   Airline          10267 non-null  object        \n",
      " 1   Date_of_Journey  10267 non-null  datetime64[ns]\n",
      " 2   Source           10267 non-null  object        \n",
      " 3   Destination      10267 non-null  object        \n",
      " 4   Route            10267 non-null  object        \n",
      " 5   Dep_Time         10267 non-null  object        \n",
      " 6   Arrival_Time     10267 non-null  datetime64[ns]\n",
      " 7   Duration         10267 non-null  object        \n",
      " 8   Total_Stops      10267 non-null  object        \n",
      " 9   Additional_Info  10267 non-null  object        \n",
      " 10  Price            10267 non-null  int64         \n",
      " 11  Months           10267 non-null  int32         \n",
      " 12  Day              10267 non-null  int32         \n",
      " 13  NewArrival_Time  10267 non-null  object        \n",
      "dtypes: datetime64[ns](2), int32(2), int64(1), object(9)\n",
      "memory usage: 1.1+ MB\n"
     ]
    }
   ],
   "source": [
    "df.info()"
   ]
  },
  {
   "cell_type": "markdown",
   "id": "c6f50b21",
   "metadata": {},
   "source": [
    "### Add New Departure Time column "
   ]
  },
  {
   "cell_type": "code",
   "execution_count": 11,
   "id": "36a33223",
   "metadata": {},
   "outputs": [],
   "source": [
    "df['Dep_Time'] = pd.to_datetime(df['Dep_Time'])"
   ]
  },
  {
   "cell_type": "code",
   "execution_count": 12,
   "id": "66aa04a0",
   "metadata": {},
   "outputs": [
    {
     "data": {
      "text/html": [
       "<div>\n",
       "<style scoped>\n",
       "    .dataframe tbody tr th:only-of-type {\n",
       "        vertical-align: middle;\n",
       "    }\n",
       "\n",
       "    .dataframe tbody tr th {\n",
       "        vertical-align: top;\n",
       "    }\n",
       "\n",
       "    .dataframe thead th {\n",
       "        text-align: right;\n",
       "    }\n",
       "</style>\n",
       "<table border=\"1\" class=\"dataframe\">\n",
       "  <thead>\n",
       "    <tr style=\"text-align: right;\">\n",
       "      <th></th>\n",
       "      <th>Airline</th>\n",
       "      <th>Date_of_Journey</th>\n",
       "      <th>Source</th>\n",
       "      <th>Destination</th>\n",
       "      <th>Route</th>\n",
       "      <th>Dep_Time</th>\n",
       "      <th>Arrival_Time</th>\n",
       "      <th>Duration</th>\n",
       "      <th>Total_Stops</th>\n",
       "      <th>Additional_Info</th>\n",
       "      <th>Price</th>\n",
       "      <th>Months</th>\n",
       "      <th>Day</th>\n",
       "      <th>NewArrival_Time</th>\n",
       "      <th>NewDep_Time</th>\n",
       "    </tr>\n",
       "  </thead>\n",
       "  <tbody>\n",
       "    <tr>\n",
       "      <th>0</th>\n",
       "      <td>IndiGo</td>\n",
       "      <td>2019-03-24</td>\n",
       "      <td>Banglore</td>\n",
       "      <td>New Delhi</td>\n",
       "      <td>BLR → DEL</td>\n",
       "      <td>2021-08-10 22:20:00</td>\n",
       "      <td>2021-03-22 01:10:00</td>\n",
       "      <td>2h 50m</td>\n",
       "      <td>non-stop</td>\n",
       "      <td>No info</td>\n",
       "      <td>3897</td>\n",
       "      <td>3</td>\n",
       "      <td>24</td>\n",
       "      <td>01:10:00</td>\n",
       "      <td>22:20:00</td>\n",
       "    </tr>\n",
       "    <tr>\n",
       "      <th>1</th>\n",
       "      <td>Air India</td>\n",
       "      <td>2019-01-05</td>\n",
       "      <td>Kolkata</td>\n",
       "      <td>Banglore</td>\n",
       "      <td>CCU → IXR → BBI → BLR</td>\n",
       "      <td>2021-08-10 05:50:00</td>\n",
       "      <td>2021-08-10 13:15:00</td>\n",
       "      <td>7h 25m</td>\n",
       "      <td>2 stops</td>\n",
       "      <td>No info</td>\n",
       "      <td>7662</td>\n",
       "      <td>1</td>\n",
       "      <td>5</td>\n",
       "      <td>13:15:00</td>\n",
       "      <td>05:50:00</td>\n",
       "    </tr>\n",
       "  </tbody>\n",
       "</table>\n",
       "</div>"
      ],
      "text/plain": [
       "     Airline Date_of_Journey    Source Destination                  Route  \\\n",
       "0     IndiGo      2019-03-24  Banglore   New Delhi              BLR → DEL   \n",
       "1  Air India      2019-01-05   Kolkata    Banglore  CCU → IXR → BBI → BLR   \n",
       "\n",
       "             Dep_Time        Arrival_Time Duration Total_Stops  \\\n",
       "0 2021-08-10 22:20:00 2021-03-22 01:10:00   2h 50m    non-stop   \n",
       "1 2021-08-10 05:50:00 2021-08-10 13:15:00   7h 25m     2 stops   \n",
       "\n",
       "  Additional_Info  Price  Months  Day NewArrival_Time NewDep_Time  \n",
       "0         No info   3897       3   24        01:10:00    22:20:00  \n",
       "1         No info   7662       1    5        13:15:00    05:50:00  "
      ]
     },
     "execution_count": 12,
     "metadata": {},
     "output_type": "execute_result"
    }
   ],
   "source": [
    "df['NewDep_Time'] = df['Dep_Time'].dt.time\n",
    "df.head(2)"
   ]
  },
  {
   "cell_type": "code",
   "execution_count": 24,
   "id": "6739fa02",
   "metadata": {},
   "outputs": [
    {
     "name": "stdout",
     "output_type": "stream",
     "text": [
      "<class 'pandas.core.frame.DataFrame'>\n",
      "Int64Index: 10267 entries, 0 to 10682\n",
      "Data columns (total 15 columns):\n",
      " #   Column           Non-Null Count  Dtype         \n",
      "---  ------           --------------  -----         \n",
      " 0   Airline          10267 non-null  object        \n",
      " 1   Date_of_Journey  10267 non-null  datetime64[ns]\n",
      " 2   Source           10267 non-null  object        \n",
      " 3   Destination      10267 non-null  object        \n",
      " 4   Route            10267 non-null  object        \n",
      " 5   Dep_Time         10267 non-null  datetime64[ns]\n",
      " 6   Arrival_Time     10267 non-null  datetime64[ns]\n",
      " 7   Duration         10267 non-null  object        \n",
      " 8   Total_Stops      10267 non-null  object        \n",
      " 9   Additional_Info  10267 non-null  object        \n",
      " 10  Price            10267 non-null  int64         \n",
      " 11  Months           10267 non-null  int32         \n",
      " 12  Day              10267 non-null  int32         \n",
      " 13  NewArrival_Time  10267 non-null  object        \n",
      " 14  NewDep_Time      10267 non-null  object        \n",
      "dtypes: datetime64[ns](3), int32(2), int64(1), object(9)\n",
      "memory usage: 1.2+ MB\n"
     ]
    }
   ],
   "source": [
    "df.info()"
   ]
  },
  {
   "cell_type": "markdown",
   "id": "4fd32532",
   "metadata": {},
   "source": [
    "### Converting New Arrival Time and New Departure Time column in Minutes"
   ]
  },
  {
   "cell_type": "code",
   "execution_count": 13,
   "id": "29008eec",
   "metadata": {},
   "outputs": [
    {
     "data": {
      "text/html": [
       "<div>\n",
       "<style scoped>\n",
       "    .dataframe tbody tr th:only-of-type {\n",
       "        vertical-align: middle;\n",
       "    }\n",
       "\n",
       "    .dataframe tbody tr th {\n",
       "        vertical-align: top;\n",
       "    }\n",
       "\n",
       "    .dataframe thead th {\n",
       "        text-align: right;\n",
       "    }\n",
       "</style>\n",
       "<table border=\"1\" class=\"dataframe\">\n",
       "  <thead>\n",
       "    <tr style=\"text-align: right;\">\n",
       "      <th></th>\n",
       "      <th>Airline</th>\n",
       "      <th>Date_of_Journey</th>\n",
       "      <th>Source</th>\n",
       "      <th>Destination</th>\n",
       "      <th>Route</th>\n",
       "      <th>Dep_Time</th>\n",
       "      <th>Arrival_Time</th>\n",
       "      <th>Duration</th>\n",
       "      <th>Total_Stops</th>\n",
       "      <th>Additional_Info</th>\n",
       "      <th>Price</th>\n",
       "      <th>Months</th>\n",
       "      <th>Day</th>\n",
       "      <th>NewArrival_Time</th>\n",
       "      <th>NewDep_Time</th>\n",
       "      <th>Dep_Hours</th>\n",
       "    </tr>\n",
       "  </thead>\n",
       "  <tbody>\n",
       "    <tr>\n",
       "      <th>0</th>\n",
       "      <td>IndiGo</td>\n",
       "      <td>2019-03-24</td>\n",
       "      <td>Banglore</td>\n",
       "      <td>New Delhi</td>\n",
       "      <td>BLR → DEL</td>\n",
       "      <td>2021-08-10 22:20:00</td>\n",
       "      <td>2021-03-22 01:10:00</td>\n",
       "      <td>2h 50m</td>\n",
       "      <td>non-stop</td>\n",
       "      <td>No info</td>\n",
       "      <td>3897</td>\n",
       "      <td>3</td>\n",
       "      <td>24</td>\n",
       "      <td>01:10:00</td>\n",
       "      <td>22:20:00</td>\n",
       "      <td>1340.0</td>\n",
       "    </tr>\n",
       "    <tr>\n",
       "      <th>1</th>\n",
       "      <td>Air India</td>\n",
       "      <td>2019-01-05</td>\n",
       "      <td>Kolkata</td>\n",
       "      <td>Banglore</td>\n",
       "      <td>CCU → IXR → BBI → BLR</td>\n",
       "      <td>2021-08-10 05:50:00</td>\n",
       "      <td>2021-08-10 13:15:00</td>\n",
       "      <td>7h 25m</td>\n",
       "      <td>2 stops</td>\n",
       "      <td>No info</td>\n",
       "      <td>7662</td>\n",
       "      <td>1</td>\n",
       "      <td>5</td>\n",
       "      <td>13:15:00</td>\n",
       "      <td>05:50:00</td>\n",
       "      <td>350.0</td>\n",
       "    </tr>\n",
       "  </tbody>\n",
       "</table>\n",
       "</div>"
      ],
      "text/plain": [
       "     Airline Date_of_Journey    Source Destination                  Route  \\\n",
       "0     IndiGo      2019-03-24  Banglore   New Delhi              BLR → DEL   \n",
       "1  Air India      2019-01-05   Kolkata    Banglore  CCU → IXR → BBI → BLR   \n",
       "\n",
       "             Dep_Time        Arrival_Time Duration Total_Stops  \\\n",
       "0 2021-08-10 22:20:00 2021-03-22 01:10:00   2h 50m    non-stop   \n",
       "1 2021-08-10 05:50:00 2021-08-10 13:15:00   7h 25m     2 stops   \n",
       "\n",
       "  Additional_Info  Price  Months  Day NewArrival_Time NewDep_Time  Dep_Hours  \n",
       "0         No info   3897       3   24        01:10:00    22:20:00     1340.0  \n",
       "1         No info   7662       1    5        13:15:00    05:50:00      350.0  "
      ]
     },
     "execution_count": 13,
     "metadata": {},
     "output_type": "execute_result"
    }
   ],
   "source": [
    "df['Dep_Hours'] = df['Dep_Time'].apply(lambda x: x.hour * 3600 + x.minute * 60 + x.second)/60\n",
    "df.head(2)"
   ]
  },
  {
   "cell_type": "code",
   "execution_count": 14,
   "id": "3f4175cd",
   "metadata": {},
   "outputs": [
    {
     "data": {
      "text/html": [
       "<div>\n",
       "<style scoped>\n",
       "    .dataframe tbody tr th:only-of-type {\n",
       "        vertical-align: middle;\n",
       "    }\n",
       "\n",
       "    .dataframe tbody tr th {\n",
       "        vertical-align: top;\n",
       "    }\n",
       "\n",
       "    .dataframe thead th {\n",
       "        text-align: right;\n",
       "    }\n",
       "</style>\n",
       "<table border=\"1\" class=\"dataframe\">\n",
       "  <thead>\n",
       "    <tr style=\"text-align: right;\">\n",
       "      <th></th>\n",
       "      <th>Airline</th>\n",
       "      <th>Date_of_Journey</th>\n",
       "      <th>Source</th>\n",
       "      <th>Destination</th>\n",
       "      <th>Route</th>\n",
       "      <th>Dep_Time</th>\n",
       "      <th>Arrival_Time</th>\n",
       "      <th>Duration</th>\n",
       "      <th>Total_Stops</th>\n",
       "      <th>Additional_Info</th>\n",
       "      <th>Price</th>\n",
       "      <th>Months</th>\n",
       "      <th>Day</th>\n",
       "      <th>NewArrival_Time</th>\n",
       "      <th>NewDep_Time</th>\n",
       "      <th>Dep_Hours</th>\n",
       "      <th>Arrival_Hours</th>\n",
       "    </tr>\n",
       "  </thead>\n",
       "  <tbody>\n",
       "    <tr>\n",
       "      <th>0</th>\n",
       "      <td>IndiGo</td>\n",
       "      <td>2019-03-24</td>\n",
       "      <td>Banglore</td>\n",
       "      <td>New Delhi</td>\n",
       "      <td>BLR → DEL</td>\n",
       "      <td>2021-08-10 22:20:00</td>\n",
       "      <td>2021-03-22 01:10:00</td>\n",
       "      <td>2h 50m</td>\n",
       "      <td>non-stop</td>\n",
       "      <td>No info</td>\n",
       "      <td>3897</td>\n",
       "      <td>3</td>\n",
       "      <td>24</td>\n",
       "      <td>01:10:00</td>\n",
       "      <td>22:20:00</td>\n",
       "      <td>1340.0</td>\n",
       "      <td>70.0</td>\n",
       "    </tr>\n",
       "    <tr>\n",
       "      <th>1</th>\n",
       "      <td>Air India</td>\n",
       "      <td>2019-01-05</td>\n",
       "      <td>Kolkata</td>\n",
       "      <td>Banglore</td>\n",
       "      <td>CCU → IXR → BBI → BLR</td>\n",
       "      <td>2021-08-10 05:50:00</td>\n",
       "      <td>2021-08-10 13:15:00</td>\n",
       "      <td>7h 25m</td>\n",
       "      <td>2 stops</td>\n",
       "      <td>No info</td>\n",
       "      <td>7662</td>\n",
       "      <td>1</td>\n",
       "      <td>5</td>\n",
       "      <td>13:15:00</td>\n",
       "      <td>05:50:00</td>\n",
       "      <td>350.0</td>\n",
       "      <td>795.0</td>\n",
       "    </tr>\n",
       "  </tbody>\n",
       "</table>\n",
       "</div>"
      ],
      "text/plain": [
       "     Airline Date_of_Journey    Source Destination                  Route  \\\n",
       "0     IndiGo      2019-03-24  Banglore   New Delhi              BLR → DEL   \n",
       "1  Air India      2019-01-05   Kolkata    Banglore  CCU → IXR → BBI → BLR   \n",
       "\n",
       "             Dep_Time        Arrival_Time Duration Total_Stops  \\\n",
       "0 2021-08-10 22:20:00 2021-03-22 01:10:00   2h 50m    non-stop   \n",
       "1 2021-08-10 05:50:00 2021-08-10 13:15:00   7h 25m     2 stops   \n",
       "\n",
       "  Additional_Info  Price  Months  Day NewArrival_Time NewDep_Time  Dep_Hours  \\\n",
       "0         No info   3897       3   24        01:10:00    22:20:00     1340.0   \n",
       "1         No info   7662       1    5        13:15:00    05:50:00      350.0   \n",
       "\n",
       "   Arrival_Hours  \n",
       "0           70.0  \n",
       "1          795.0  "
      ]
     },
     "execution_count": 14,
     "metadata": {},
     "output_type": "execute_result"
    }
   ],
   "source": [
    "df['Arrival_Hours'] = df['NewArrival_Time'].apply(lambda x: x.hour * 3600 + x.minute * 60 + x.second)/60\n",
    "df.head(2)"
   ]
  },
  {
   "cell_type": "markdown",
   "id": "a4f9bc4f",
   "metadata": {},
   "source": [
    "### Split Duration column into Hours and Minutes"
   ]
  },
  {
   "cell_type": "code",
   "execution_count": 15,
   "id": "ece7700f",
   "metadata": {},
   "outputs": [],
   "source": [
    "new = df['Duration'].str.split(' ', n = 2, expand = True)"
   ]
  },
  {
   "cell_type": "code",
   "execution_count": 16,
   "id": "7663a30a",
   "metadata": {},
   "outputs": [
    {
     "data": {
      "text/html": [
       "<div>\n",
       "<style scoped>\n",
       "    .dataframe tbody tr th:only-of-type {\n",
       "        vertical-align: middle;\n",
       "    }\n",
       "\n",
       "    .dataframe tbody tr th {\n",
       "        vertical-align: top;\n",
       "    }\n",
       "\n",
       "    .dataframe thead th {\n",
       "        text-align: right;\n",
       "    }\n",
       "</style>\n",
       "<table border=\"1\" class=\"dataframe\">\n",
       "  <thead>\n",
       "    <tr style=\"text-align: right;\">\n",
       "      <th></th>\n",
       "      <th>Airline</th>\n",
       "      <th>Date_of_Journey</th>\n",
       "      <th>Source</th>\n",
       "      <th>Destination</th>\n",
       "      <th>Route</th>\n",
       "      <th>Dep_Time</th>\n",
       "      <th>Arrival_Time</th>\n",
       "      <th>Duration</th>\n",
       "      <th>Total_Stops</th>\n",
       "      <th>Additional_Info</th>\n",
       "      <th>Price</th>\n",
       "      <th>Months</th>\n",
       "      <th>Day</th>\n",
       "      <th>NewArrival_Time</th>\n",
       "      <th>NewDep_Time</th>\n",
       "      <th>Dep_Hours</th>\n",
       "      <th>Arrival_Hours</th>\n",
       "      <th>Hours</th>\n",
       "      <th>Minutes</th>\n",
       "    </tr>\n",
       "  </thead>\n",
       "  <tbody>\n",
       "    <tr>\n",
       "      <th>0</th>\n",
       "      <td>IndiGo</td>\n",
       "      <td>2019-03-24</td>\n",
       "      <td>Banglore</td>\n",
       "      <td>New Delhi</td>\n",
       "      <td>BLR → DEL</td>\n",
       "      <td>2021-08-10 22:20:00</td>\n",
       "      <td>2021-03-22 01:10:00</td>\n",
       "      <td>2h 50m</td>\n",
       "      <td>non-stop</td>\n",
       "      <td>No info</td>\n",
       "      <td>3897</td>\n",
       "      <td>3</td>\n",
       "      <td>24</td>\n",
       "      <td>01:10:00</td>\n",
       "      <td>22:20:00</td>\n",
       "      <td>1340.0</td>\n",
       "      <td>70.0</td>\n",
       "      <td>2h</td>\n",
       "      <td>50m</td>\n",
       "    </tr>\n",
       "    <tr>\n",
       "      <th>1</th>\n",
       "      <td>Air India</td>\n",
       "      <td>2019-01-05</td>\n",
       "      <td>Kolkata</td>\n",
       "      <td>Banglore</td>\n",
       "      <td>CCU → IXR → BBI → BLR</td>\n",
       "      <td>2021-08-10 05:50:00</td>\n",
       "      <td>2021-08-10 13:15:00</td>\n",
       "      <td>7h 25m</td>\n",
       "      <td>2 stops</td>\n",
       "      <td>No info</td>\n",
       "      <td>7662</td>\n",
       "      <td>1</td>\n",
       "      <td>5</td>\n",
       "      <td>13:15:00</td>\n",
       "      <td>05:50:00</td>\n",
       "      <td>350.0</td>\n",
       "      <td>795.0</td>\n",
       "      <td>7h</td>\n",
       "      <td>25m</td>\n",
       "    </tr>\n",
       "  </tbody>\n",
       "</table>\n",
       "</div>"
      ],
      "text/plain": [
       "     Airline Date_of_Journey    Source Destination                  Route  \\\n",
       "0     IndiGo      2019-03-24  Banglore   New Delhi              BLR → DEL   \n",
       "1  Air India      2019-01-05   Kolkata    Banglore  CCU → IXR → BBI → BLR   \n",
       "\n",
       "             Dep_Time        Arrival_Time Duration Total_Stops  \\\n",
       "0 2021-08-10 22:20:00 2021-03-22 01:10:00   2h 50m    non-stop   \n",
       "1 2021-08-10 05:50:00 2021-08-10 13:15:00   7h 25m     2 stops   \n",
       "\n",
       "  Additional_Info  Price  Months  Day NewArrival_Time NewDep_Time  Dep_Hours  \\\n",
       "0         No info   3897       3   24        01:10:00    22:20:00     1340.0   \n",
       "1         No info   7662       1    5        13:15:00    05:50:00      350.0   \n",
       "\n",
       "   Arrival_Hours Hours Minutes  \n",
       "0           70.0    2h     50m  \n",
       "1          795.0    7h     25m  "
      ]
     },
     "execution_count": 16,
     "metadata": {},
     "output_type": "execute_result"
    }
   ],
   "source": [
    "df['Hours'] = new[0]\n",
    "df['Minutes'] = new[1]\n",
    "df.head(2)"
   ]
  },
  {
   "cell_type": "code",
   "execution_count": 17,
   "id": "91b6fc90",
   "metadata": {},
   "outputs": [
    {
     "data": {
      "text/html": [
       "<div>\n",
       "<style scoped>\n",
       "    .dataframe tbody tr th:only-of-type {\n",
       "        vertical-align: middle;\n",
       "    }\n",
       "\n",
       "    .dataframe tbody tr th {\n",
       "        vertical-align: top;\n",
       "    }\n",
       "\n",
       "    .dataframe thead th {\n",
       "        text-align: right;\n",
       "    }\n",
       "</style>\n",
       "<table border=\"1\" class=\"dataframe\">\n",
       "  <thead>\n",
       "    <tr style=\"text-align: right;\">\n",
       "      <th></th>\n",
       "      <th>Airline</th>\n",
       "      <th>Date_of_Journey</th>\n",
       "      <th>Source</th>\n",
       "      <th>Destination</th>\n",
       "      <th>Route</th>\n",
       "      <th>Dep_Time</th>\n",
       "      <th>Arrival_Time</th>\n",
       "      <th>Duration</th>\n",
       "      <th>Total_Stops</th>\n",
       "      <th>Additional_Info</th>\n",
       "      <th>Price</th>\n",
       "      <th>Months</th>\n",
       "      <th>Day</th>\n",
       "      <th>NewArrival_Time</th>\n",
       "      <th>NewDep_Time</th>\n",
       "      <th>Dep_Hours</th>\n",
       "      <th>Arrival_Hours</th>\n",
       "      <th>Hours</th>\n",
       "      <th>Minutes</th>\n",
       "    </tr>\n",
       "  </thead>\n",
       "  <tbody>\n",
       "    <tr>\n",
       "      <th>0</th>\n",
       "      <td>IndiGo</td>\n",
       "      <td>2019-03-24</td>\n",
       "      <td>Banglore</td>\n",
       "      <td>New Delhi</td>\n",
       "      <td>BLR → DEL</td>\n",
       "      <td>2021-08-10 22:20:00</td>\n",
       "      <td>2021-03-22 01:10:00</td>\n",
       "      <td>2h 50m</td>\n",
       "      <td>non-stop</td>\n",
       "      <td>No info</td>\n",
       "      <td>3897</td>\n",
       "      <td>3</td>\n",
       "      <td>24</td>\n",
       "      <td>01:10:00</td>\n",
       "      <td>22:20:00</td>\n",
       "      <td>1340.0</td>\n",
       "      <td>70.0</td>\n",
       "      <td>2</td>\n",
       "      <td>50</td>\n",
       "    </tr>\n",
       "    <tr>\n",
       "      <th>1</th>\n",
       "      <td>Air India</td>\n",
       "      <td>2019-01-05</td>\n",
       "      <td>Kolkata</td>\n",
       "      <td>Banglore</td>\n",
       "      <td>CCU → IXR → BBI → BLR</td>\n",
       "      <td>2021-08-10 05:50:00</td>\n",
       "      <td>2021-08-10 13:15:00</td>\n",
       "      <td>7h 25m</td>\n",
       "      <td>2 stops</td>\n",
       "      <td>No info</td>\n",
       "      <td>7662</td>\n",
       "      <td>1</td>\n",
       "      <td>5</td>\n",
       "      <td>13:15:00</td>\n",
       "      <td>05:50:00</td>\n",
       "      <td>350.0</td>\n",
       "      <td>795.0</td>\n",
       "      <td>7</td>\n",
       "      <td>25</td>\n",
       "    </tr>\n",
       "  </tbody>\n",
       "</table>\n",
       "</div>"
      ],
      "text/plain": [
       "     Airline Date_of_Journey    Source Destination                  Route  \\\n",
       "0     IndiGo      2019-03-24  Banglore   New Delhi              BLR → DEL   \n",
       "1  Air India      2019-01-05   Kolkata    Banglore  CCU → IXR → BBI → BLR   \n",
       "\n",
       "             Dep_Time        Arrival_Time Duration Total_Stops  \\\n",
       "0 2021-08-10 22:20:00 2021-03-22 01:10:00   2h 50m    non-stop   \n",
       "1 2021-08-10 05:50:00 2021-08-10 13:15:00   7h 25m     2 stops   \n",
       "\n",
       "  Additional_Info  Price  Months  Day NewArrival_Time NewDep_Time  Dep_Hours  \\\n",
       "0         No info   3897       3   24        01:10:00    22:20:00     1340.0   \n",
       "1         No info   7662       1    5        13:15:00    05:50:00      350.0   \n",
       "\n",
       "   Arrival_Hours Hours Minutes  \n",
       "0           70.0     2      50  \n",
       "1          795.0     7      25  "
      ]
     },
     "execution_count": 17,
     "metadata": {},
     "output_type": "execute_result"
    }
   ],
   "source": [
    "df['Hours'] = new[0].str.split('h', expand = True)\n",
    "df['Minutes'] = new[1].str.split('m', expand = True)\n",
    "df.head(2)"
   ]
  },
  {
   "cell_type": "code",
   "execution_count": 18,
   "id": "fa4656e7",
   "metadata": {},
   "outputs": [],
   "source": [
    "df['Hours'] = df['Hours'].replace(['5m'],'5')"
   ]
  },
  {
   "cell_type": "code",
   "execution_count": 19,
   "id": "3cb7d74a",
   "metadata": {},
   "outputs": [],
   "source": [
    "df['Hours'] =  df['Hours'].astype(np.float)"
   ]
  },
  {
   "cell_type": "code",
   "execution_count": 23,
   "id": "786388b5",
   "metadata": {},
   "outputs": [
    {
     "name": "stdout",
     "output_type": "stream",
     "text": [
      "<class 'pandas.core.frame.DataFrame'>\n",
      "Int64Index: 10267 entries, 0 to 10682\n",
      "Data columns (total 19 columns):\n",
      " #   Column           Non-Null Count  Dtype         \n",
      "---  ------           --------------  -----         \n",
      " 0   Airline          10267 non-null  object        \n",
      " 1   Date_of_Journey  10267 non-null  datetime64[ns]\n",
      " 2   Source           10267 non-null  object        \n",
      " 3   Destination      10267 non-null  object        \n",
      " 4   Route            10267 non-null  object        \n",
      " 5   Dep_Time         10267 non-null  datetime64[ns]\n",
      " 6   Arrival_Time     10267 non-null  datetime64[ns]\n",
      " 7   Duration         10267 non-null  object        \n",
      " 8   Total_Stops      10267 non-null  object        \n",
      " 9   Additional_Info  10267 non-null  object        \n",
      " 10  Price            10267 non-null  int64         \n",
      " 11  Months           10267 non-null  int32         \n",
      " 12  Day              10267 non-null  int32         \n",
      " 13  NewArrival_Time  10267 non-null  object        \n",
      " 14  NewDep_Time      10267 non-null  object        \n",
      " 15  Dep_Hours        10267 non-null  float64       \n",
      " 16  Arrival_Hours    10267 non-null  float64       \n",
      " 17  Hours            10267 non-null  float64       \n",
      " 18  Minutes          9286 non-null   object        \n",
      "dtypes: datetime64[ns](3), float64(3), int32(2), int64(1), object(10)\n",
      "memory usage: 1.5+ MB\n"
     ]
    }
   ],
   "source": [
    "df.info()"
   ]
  },
  {
   "cell_type": "code",
   "execution_count": 20,
   "id": "4a942b1a",
   "metadata": {},
   "outputs": [],
   "source": [
    "df['Minutes'] = df['Minutes'].fillna(df['Minutes'].mode()[0])"
   ]
  },
  {
   "cell_type": "code",
   "execution_count": 21,
   "id": "545e1f13",
   "metadata": {},
   "outputs": [],
   "source": [
    "df['Minutes'] =  df['Minutes'].astype(np.float)"
   ]
  },
  {
   "cell_type": "code",
   "execution_count": 22,
   "id": "cfac56c2",
   "metadata": {},
   "outputs": [
    {
     "name": "stdout",
     "output_type": "stream",
     "text": [
      "<class 'pandas.core.frame.DataFrame'>\n",
      "Int64Index: 10267 entries, 0 to 10682\n",
      "Data columns (total 19 columns):\n",
      " #   Column           Non-Null Count  Dtype         \n",
      "---  ------           --------------  -----         \n",
      " 0   Airline          10267 non-null  object        \n",
      " 1   Date_of_Journey  10267 non-null  datetime64[ns]\n",
      " 2   Source           10267 non-null  object        \n",
      " 3   Destination      10267 non-null  object        \n",
      " 4   Route            10267 non-null  object        \n",
      " 5   Dep_Time         10267 non-null  datetime64[ns]\n",
      " 6   Arrival_Time     10267 non-null  datetime64[ns]\n",
      " 7   Duration         10267 non-null  object        \n",
      " 8   Total_Stops      10267 non-null  object        \n",
      " 9   Additional_Info  10267 non-null  object        \n",
      " 10  Price            10267 non-null  int64         \n",
      " 11  Months           10267 non-null  int32         \n",
      " 12  Day              10267 non-null  int32         \n",
      " 13  NewArrival_Time  10267 non-null  object        \n",
      " 14  NewDep_Time      10267 non-null  object        \n",
      " 15  Dep_Hours        10267 non-null  float64       \n",
      " 16  Arrival_Hours    10267 non-null  float64       \n",
      " 17  Hours            10267 non-null  float64       \n",
      " 18  Minutes          10267 non-null  float64       \n",
      "dtypes: datetime64[ns](3), float64(4), int32(2), int64(1), object(9)\n",
      "memory usage: 1.5+ MB\n"
     ]
    }
   ],
   "source": [
    "df.info()"
   ]
  },
  {
   "cell_type": "markdown",
   "id": "2a27c0f1",
   "metadata": {},
   "source": [
    "### Adding New Duration column"
   ]
  },
  {
   "cell_type": "code",
   "execution_count": 23,
   "id": "d66ee337",
   "metadata": {},
   "outputs": [
    {
     "data": {
      "text/html": [
       "<div>\n",
       "<style scoped>\n",
       "    .dataframe tbody tr th:only-of-type {\n",
       "        vertical-align: middle;\n",
       "    }\n",
       "\n",
       "    .dataframe tbody tr th {\n",
       "        vertical-align: top;\n",
       "    }\n",
       "\n",
       "    .dataframe thead th {\n",
       "        text-align: right;\n",
       "    }\n",
       "</style>\n",
       "<table border=\"1\" class=\"dataframe\">\n",
       "  <thead>\n",
       "    <tr style=\"text-align: right;\">\n",
       "      <th></th>\n",
       "      <th>Airline</th>\n",
       "      <th>Date_of_Journey</th>\n",
       "      <th>Source</th>\n",
       "      <th>Destination</th>\n",
       "      <th>Route</th>\n",
       "      <th>Dep_Time</th>\n",
       "      <th>Arrival_Time</th>\n",
       "      <th>Duration</th>\n",
       "      <th>Total_Stops</th>\n",
       "      <th>Additional_Info</th>\n",
       "      <th>Price</th>\n",
       "      <th>Months</th>\n",
       "      <th>Day</th>\n",
       "      <th>NewArrival_Time</th>\n",
       "      <th>NewDep_Time</th>\n",
       "      <th>Dep_Hours</th>\n",
       "      <th>Arrival_Hours</th>\n",
       "      <th>Hours</th>\n",
       "      <th>Minutes</th>\n",
       "      <th>New_Duration</th>\n",
       "    </tr>\n",
       "  </thead>\n",
       "  <tbody>\n",
       "    <tr>\n",
       "      <th>0</th>\n",
       "      <td>IndiGo</td>\n",
       "      <td>2019-03-24</td>\n",
       "      <td>Banglore</td>\n",
       "      <td>New Delhi</td>\n",
       "      <td>BLR → DEL</td>\n",
       "      <td>2021-08-10 22:20:00</td>\n",
       "      <td>2021-03-22 01:10:00</td>\n",
       "      <td>2h 50m</td>\n",
       "      <td>non-stop</td>\n",
       "      <td>No info</td>\n",
       "      <td>3897</td>\n",
       "      <td>3</td>\n",
       "      <td>24</td>\n",
       "      <td>01:10:00</td>\n",
       "      <td>22:20:00</td>\n",
       "      <td>1340.0</td>\n",
       "      <td>70.0</td>\n",
       "      <td>2.0</td>\n",
       "      <td>50.0</td>\n",
       "      <td>170.0</td>\n",
       "    </tr>\n",
       "    <tr>\n",
       "      <th>1</th>\n",
       "      <td>Air India</td>\n",
       "      <td>2019-01-05</td>\n",
       "      <td>Kolkata</td>\n",
       "      <td>Banglore</td>\n",
       "      <td>CCU → IXR → BBI → BLR</td>\n",
       "      <td>2021-08-10 05:50:00</td>\n",
       "      <td>2021-08-10 13:15:00</td>\n",
       "      <td>7h 25m</td>\n",
       "      <td>2 stops</td>\n",
       "      <td>No info</td>\n",
       "      <td>7662</td>\n",
       "      <td>1</td>\n",
       "      <td>5</td>\n",
       "      <td>13:15:00</td>\n",
       "      <td>05:50:00</td>\n",
       "      <td>350.0</td>\n",
       "      <td>795.0</td>\n",
       "      <td>7.0</td>\n",
       "      <td>25.0</td>\n",
       "      <td>445.0</td>\n",
       "    </tr>\n",
       "  </tbody>\n",
       "</table>\n",
       "</div>"
      ],
      "text/plain": [
       "     Airline Date_of_Journey    Source Destination                  Route  \\\n",
       "0     IndiGo      2019-03-24  Banglore   New Delhi              BLR → DEL   \n",
       "1  Air India      2019-01-05   Kolkata    Banglore  CCU → IXR → BBI → BLR   \n",
       "\n",
       "             Dep_Time        Arrival_Time Duration Total_Stops  \\\n",
       "0 2021-08-10 22:20:00 2021-03-22 01:10:00   2h 50m    non-stop   \n",
       "1 2021-08-10 05:50:00 2021-08-10 13:15:00   7h 25m     2 stops   \n",
       "\n",
       "  Additional_Info  Price  Months  Day NewArrival_Time NewDep_Time  Dep_Hours  \\\n",
       "0         No info   3897       3   24        01:10:00    22:20:00     1340.0   \n",
       "1         No info   7662       1    5        13:15:00    05:50:00      350.0   \n",
       "\n",
       "   Arrival_Hours  Hours  Minutes  New_Duration  \n",
       "0           70.0    2.0     50.0         170.0  \n",
       "1          795.0    7.0     25.0         445.0  "
      ]
     },
     "execution_count": 23,
     "metadata": {},
     "output_type": "execute_result"
    }
   ],
   "source": [
    "df['New_Duration'] = df['Hours']*60 + df['Minutes']\n",
    "df.head(2)"
   ]
  },
  {
   "cell_type": "code",
   "execution_count": 37,
   "id": "853df979",
   "metadata": {},
   "outputs": [
    {
     "data": {
      "text/plain": [
       "170.0     538\n",
       "90.0      386\n",
       "165.0     333\n",
       "155.0     329\n",
       "175.0     327\n",
       "         ... \n",
       "2135.0      1\n",
       "2860.0      1\n",
       "1810.0      1\n",
       "2850.0      1\n",
       "815.0       1\n",
       "Name: New_Duration, Length: 340, dtype: int64"
      ]
     },
     "execution_count": 37,
     "metadata": {},
     "output_type": "execute_result"
    }
   ],
   "source": [
    "df['New_Duration'].value_counts()"
   ]
  },
  {
   "cell_type": "markdown",
   "id": "c00c7f2e",
   "metadata": {},
   "source": [
    "### Analysis of Data"
   ]
  },
  {
   "cell_type": "markdown",
   "id": "fa079d78",
   "metadata": {},
   "source": [
    "### Airline column"
   ]
  },
  {
   "cell_type": "code",
   "execution_count": 38,
   "id": "fe306d4b",
   "metadata": {},
   "outputs": [
    {
     "data": {
      "text/plain": [
       "Jet Airways                          3569\n",
       "IndiGo                               2033\n",
       "Air India                            1644\n",
       "Multiple carriers                    1196\n",
       "SpiceJet                              812\n",
       "Vistara                               477\n",
       "Air Asia                              319\n",
       "GoAir                                 194\n",
       "Multiple carriers Premium economy      13\n",
       "Jet Airways Business                    6\n",
       "Vistara Premium economy                 3\n",
       "Trujet                                  1\n",
       "Name: Airline, dtype: int64"
      ]
     },
     "execution_count": 38,
     "metadata": {},
     "output_type": "execute_result"
    }
   ],
   "source": [
    "ar = df['Airline'].value_counts()\n",
    "ar"
   ]
  },
  {
   "cell_type": "code",
   "execution_count": 39,
   "id": "1d479f72",
   "metadata": {},
   "outputs": [
    {
     "data": {
      "image/png": "[encoded data removed]",
      "text/plain": [
       "<Figure size 720x360 with 1 Axes>"
      ]
     },
     "metadata": {
      "needs_background": "light"
     },
     "output_type": "display_data"
    }
   ],
   "source": [
    "ar.plot.barh(figsize = (10,5), color = ['g','c', 'm', 'y','k','tab:brown','b','xkcd:sky blue','tab:olive','tab:gray','r'])\n",
    "plt.ylabel('Airline Company', c = 'r', fontsize = 12)\n",
    "plt.xlabel('Counts of Airline Company', c = 'r', fontsize = 12 )\n",
    "plt.title('Airline Company vs Counts of Airline Company', c = 'r', fontsize = 12)\n",
    "plt.show()"
   ]
  },
  {
   "cell_type": "markdown",
   "id": "a0bd4721",
   "metadata": {},
   "source": [
    "#### Above plot shows Jet Airways has highest and Trujet has lowest flight counts"
   ]
  },
  {
   "cell_type": "code",
   "execution_count": 40,
   "id": "f9ca31a6",
   "metadata": {},
   "outputs": [
    {
     "data": {
      "text/plain": [
       "Airline                  Months\n",
       "Trujet                   6            4140\n",
       "Vistara Premium economy  6            5969\n",
       "                         1            9125\n",
       "                         3           11793\n",
       "Multiple carriers        4           12186\n",
       "                                    ...   \n",
       "Jet Airways              1         5393640\n",
       "                         9         5924281\n",
       "                         3         6616650\n",
       "                         5         8548865\n",
       "                         6         9812957\n",
       "Name: Price, Length: 64, dtype: int64"
      ]
     },
     "execution_count": 40,
     "metadata": {},
     "output_type": "execute_result"
    }
   ],
   "source": [
    "air = df.groupby(['Airline','Months'])['Price'].sum().sort_values()\n",
    "air"
   ]
  },
  {
   "cell_type": "code",
   "execution_count": 41,
   "id": "b40485d0",
   "metadata": {},
   "outputs": [
    {
     "data": {
      "image/png": "[encoded data removed]",
      "text/plain": [
       "<Figure size 720x1080 with 1 Axes>"
      ]
     },
     "metadata": {
      "needs_background": "light"
     },
     "output_type": "display_data"
    }
   ],
   "source": [
    "air.plot.barh(figsize = (10, 15),color = ['y','c', 'm', 'g','r','k'])\n",
    "plt.ylabel('Airline Company and Months', c = 'm', fontsize = 12)\n",
    "plt.xlabel('Price', c = 'm', fontsize = 12 )\n",
    "plt.title('Airline Company and Months vs Price', c = 'm', fontsize = 12)\n",
    "plt.show()"
   ]
  },
  {
   "cell_type": "markdown",
   "id": "f42155cc",
   "metadata": {},
   "source": [
    "#### Above plot shows Jet Airways in 6th month has highest Price and Trujet has lowest"
   ]
  },
  {
   "cell_type": "markdown",
   "id": "d3995756",
   "metadata": {},
   "source": [
    "### Day column"
   ]
  },
  {
   "cell_type": "code",
   "execution_count": 42,
   "id": "253cb64d",
   "metadata": {},
   "outputs": [
    {
     "data": {
      "text/plain": [
       "Day\n",
       "4      3988043\n",
       "18     6763741\n",
       "15     7618163\n",
       "24     8280403\n",
       "27     8371368\n",
       "21     8727727\n",
       "5     11704710\n",
       "3     17719024\n",
       "6     18950402\n",
       "Name: Price, dtype: int64"
      ]
     },
     "execution_count": 42,
     "metadata": {},
     "output_type": "execute_result"
    }
   ],
   "source": [
    "d = df.groupby(['Day'])['Price'].sum().sort_values()\n",
    "d"
   ]
  },
  {
   "cell_type": "code",
   "execution_count": 43,
   "id": "d311c77d",
   "metadata": {},
   "outputs": [
    {
     "data": {
      "image/png": "[encoded data removed]",
      "text/plain": [
       "<Figure size 720x360 with 1 Axes>"
      ]
     },
     "metadata": {
      "needs_background": "light"
     },
     "output_type": "display_data"
    }
   ],
   "source": [
    "d.plot.bar(figsize = (10, 5),rot = 360, color = ['y','c', 'm', 'k','r','g'])\n",
    "plt.xlabel('Day', c = 'g', fontsize = 12)\n",
    "plt.ylabel('Price', c = 'g', fontsize = 12 )\n",
    "plt.title('Day vs Price', c = 'g', fontsize = 12)\n",
    "plt.show()"
   ]
  },
  {
   "cell_type": "markdown",
   "id": "124c0c14",
   "metadata": {},
   "source": [
    "#### Above plot shows 6th day of every months has highest price and 4th is lowest price"
   ]
  },
  {
   "cell_type": "code",
   "execution_count": 44,
   "id": "6156a2d9",
   "metadata": {},
   "outputs": [
    {
     "data": {
      "text/plain": [
       "Airline                  Day\n",
       "Trujet                   3         4140\n",
       "Vistara Premium economy  4         5969\n",
       "                         3        20918\n",
       "GoAir                    18       63639\n",
       "                         21       73654\n",
       "                                 ...   \n",
       "Jet Airways              24     3726006\n",
       "                         21     3925266\n",
       "                         5      6346158\n",
       "                         3      7072860\n",
       "                         6      9171123\n",
       "Name: Price, Length: 77, dtype: int64"
      ]
     },
     "execution_count": 44,
     "metadata": {},
     "output_type": "execute_result"
    }
   ],
   "source": [
    "day = df.groupby(['Airline', 'Day'])['Price'].sum().sort_values()\n",
    "day"
   ]
  },
  {
   "cell_type": "code",
   "execution_count": 45,
   "id": "37a65e2d",
   "metadata": {},
   "outputs": [
    {
     "data": {
      "image/png": "[encoded data removed]",
      "text/plain": [
       "<Figure size 720x1080 with 1 Axes>"
      ]
     },
     "metadata": {
      "needs_background": "light"
     },
     "output_type": "display_data"
    }
   ],
   "source": [
    "day.plot.barh(figsize = (10, 15),color = ['g','r', 'm', 'c','y','k'])\n",
    "plt.ylabel('Airline Company and Day', c = 'b', fontsize = 12)\n",
    "plt.xlabel('Price', c = 'b', fontsize = 12 )\n",
    "plt.title('Airline Company and day vs Price', c = 'b', fontsize = 12)\n",
    "plt.show()"
   ]
  },
  {
   "cell_type": "markdown",
   "id": "e36a0a31",
   "metadata": {},
   "source": [
    "#### Above plot shows Jet Airways 6th day of every months has highest price"
   ]
  },
  {
   "cell_type": "markdown",
   "id": "f34385c3",
   "metadata": {},
   "source": [
    "### Route column"
   ]
  },
  {
   "cell_type": "code",
   "execution_count": 46,
   "id": "922d872d",
   "metadata": {},
   "outputs": [
    {
     "data": {
      "text/plain": [
       "Delhi       4178\n",
       "Kolkata     2850\n",
       "Banglore    2161\n",
       "Mumbai       697\n",
       "Chennai      381\n",
       "Name: Source, dtype: int64"
      ]
     },
     "execution_count": 46,
     "metadata": {},
     "output_type": "execute_result"
    }
   ],
   "source": [
    "df['Source'].value_counts()"
   ]
  },
  {
   "cell_type": "code",
   "execution_count": 47,
   "id": "7a5052b7",
   "metadata": {},
   "outputs": [
    {
     "data": {
      "text/plain": [
       "Source    Destination\n",
       "Banglore  Delhi           6507057\n",
       "          New Delhi      10842254\n",
       "Chennai   Kolkata         1824949\n",
       "Delhi     Cochin         43402838\n",
       "Kolkata   Banglore       26019866\n",
       "Mumbai    Hyderabad       3526617\n",
       "Name: Price, dtype: int64"
      ]
     },
     "execution_count": 47,
     "metadata": {},
     "output_type": "execute_result"
    }
   ],
   "source": [
    "source = df.groupby(['Source','Destination'])['Price'].sum()\n",
    "source"
   ]
  },
  {
   "cell_type": "code",
   "execution_count": 48,
   "id": "122369b7",
   "metadata": {},
   "outputs": [
    {
     "data": {
      "image/png": "[encoded data removed]",
      "text/plain": [
       "<Figure size 1080x360 with 1 Axes>"
      ]
     },
     "metadata": {
      "needs_background": "light"
     },
     "output_type": "display_data"
    }
   ],
   "source": [
    "source.plot.bar(figsize = (15, 5),rot = 360, color = ['m','k','r','g','c','y'])\n",
    "plt.ylabel('Price', c = 'k', fontsize = 12)\n",
    "plt.xlabel('Route', c = 'k', fontsize = 12 )\n",
    "plt.title('Route vs Price', c = 'k', fontsize = 12)\n",
    "plt.show()"
   ]
  },
  {
   "cell_type": "markdown",
   "id": "bb22dc70",
   "metadata": {},
   "source": [
    "#### Above plot shows Delhi to Cochin has highest price and Chennai to Kolkata has lowest price"
   ]
  },
  {
   "cell_type": "markdown",
   "id": "86a66739",
   "metadata": {},
   "source": [
    "### Total Stops column"
   ]
  },
  {
   "cell_type": "code",
   "execution_count": 49,
   "id": "e3e7167c",
   "metadata": {},
   "outputs": [
    {
     "data": {
      "text/plain": [
       "1 stop      5625\n",
       "non-stop    3459\n",
       "2 stops     1141\n",
       "3 stops       41\n",
       "4 stops        1\n",
       "Name: Total_Stops, dtype: int64"
      ]
     },
     "execution_count": 49,
     "metadata": {},
     "output_type": "execute_result"
    }
   ],
   "source": [
    "df['Total_Stops'].value_counts()"
   ]
  },
  {
   "cell_type": "code",
   "execution_count": 50,
   "id": "ac36b057",
   "metadata": {},
   "outputs": [
    {
     "data": {
      "text/plain": [
       "Total_Stops\n",
       "1 stop      59591945\n",
       "2 stops     14626877\n",
       "3 stops       550378\n",
       "4 stops        17686\n",
       "non-stop    17336695\n",
       "Name: Price, dtype: int64"
      ]
     },
     "execution_count": 50,
     "metadata": {},
     "output_type": "execute_result"
    }
   ],
   "source": [
    "tstop = df.groupby('Total_Stops')['Price'].sum()\n",
    "tstop"
   ]
  },
  {
   "cell_type": "code",
   "execution_count": 51,
   "id": "bb046b7d",
   "metadata": {},
   "outputs": [
    {
     "data": {
      "image/png": "[encoded data removed]",
      "text/plain": [
       "<Figure size 720x360 with 1 Axes>"
      ]
     },
     "metadata": {
      "needs_background": "light"
     },
     "output_type": "display_data"
    }
   ],
   "source": [
    "tstop.plot.bar(figsize = (10, 5),rot = 360, color = ['g','r', 'm', 'y','c'])\n",
    "plt.xlabel('Total Stops', c = 'r', fontsize = 12)\n",
    "plt.ylabel('Price', c = 'r', fontsize = 12 )\n",
    "plt.title('Total Stops vs Price', c = 'r', fontsize = 12)\n",
    "plt.show()"
   ]
  },
  {
   "cell_type": "markdown",
   "id": "115016a7",
   "metadata": {},
   "source": [
    "#### Above plot shows 1 stop flight has highest price and 4 stop has lowest price"
   ]
  },
  {
   "cell_type": "markdown",
   "id": "28323a3e",
   "metadata": {},
   "source": [
    "### New Duration column"
   ]
  },
  {
   "cell_type": "code",
   "execution_count": 52,
   "id": "a4f8c2ce",
   "metadata": {},
   "outputs": [
    {
     "data": {
      "text/plain": [
       "170.0     538\n",
       "90.0      386\n",
       "165.0     333\n",
       "155.0     329\n",
       "175.0     327\n",
       "         ... \n",
       "2135.0      1\n",
       "2860.0      1\n",
       "1810.0      1\n",
       "2850.0      1\n",
       "815.0       1\n",
       "Name: New_Duration, Length: 340, dtype: int64"
      ]
     },
     "execution_count": 52,
     "metadata": {},
     "output_type": "execute_result"
    }
   ],
   "source": [
    "df['New_Duration'].value_counts()"
   ]
  },
  {
   "cell_type": "code",
   "execution_count": 53,
   "id": "1fafaac0",
   "metadata": {
    "scrolled": true
   },
   "outputs": [
    {
     "data": {
      "text/plain": [
       "New_Duration\n",
       "250.0        4226\n",
       "1815.0       7664\n",
       "1675.0       7932\n",
       "235.0        8452\n",
       "820.0        8518\n",
       "           ...   \n",
       "155.0     1579634\n",
       "210.0     1589224\n",
       "165.0     1843638\n",
       "175.0     1850293\n",
       "170.0     2687754\n",
       "Name: Price, Length: 340, dtype: int64"
      ]
     },
     "execution_count": 53,
     "metadata": {},
     "output_type": "execute_result"
    }
   ],
   "source": [
    "info = df.groupby('New_Duration')['Price'].sum().sort_values()\n",
    "info"
   ]
  },
  {
   "cell_type": "code",
   "execution_count": 54,
   "id": "89d5dd4b",
   "metadata": {},
   "outputs": [
    {
     "data": {
      "image/png": "[encoded data removed]",
      "text/plain": [
       "<Figure size 432x288 with 1 Axes>"
      ]
     },
     "metadata": {
      "needs_background": "light"
     },
     "output_type": "display_data"
    }
   ],
   "source": [
    "df.plot.scatter(x = 'New_Duration', y = 'Price', c = 'g')\n",
    "plt.xlabel('Duration', c = 'r')\n",
    "plt.ylabel('Price', c = 'r')\n",
    "plt.title('Duration vs Price', c = 'r')\n",
    "plt.show()"
   ]
  },
  {
   "cell_type": "markdown",
   "id": "db48d8c8",
   "metadata": {},
   "source": [
    "#### Above plot shows Price increase respact to Duration"
   ]
  },
  {
   "cell_type": "markdown",
   "id": "26fe5306",
   "metadata": {},
   "source": [
    "### Deleate Unwanted Columns"
   ]
  },
  {
   "cell_type": "code",
   "execution_count": 24,
   "id": "92cc2118",
   "metadata": {},
   "outputs": [],
   "source": [
    "col = ['Date_of_Journey','Dep_Time','Arrival_Time','Duration']"
   ]
  },
  {
   "cell_type": "code",
   "execution_count": 25,
   "id": "d3dd853a",
   "metadata": {},
   "outputs": [
    {
     "data": {
      "text/html": [
       "<div>\n",
       "<style scoped>\n",
       "    .dataframe tbody tr th:only-of-type {\n",
       "        vertical-align: middle;\n",
       "    }\n",
       "\n",
       "    .dataframe tbody tr th {\n",
       "        vertical-align: top;\n",
       "    }\n",
       "\n",
       "    .dataframe thead th {\n",
       "        text-align: right;\n",
       "    }\n",
       "</style>\n",
       "<table border=\"1\" class=\"dataframe\">\n",
       "  <thead>\n",
       "    <tr style=\"text-align: right;\">\n",
       "      <th></th>\n",
       "      <th>Airline</th>\n",
       "      <th>Source</th>\n",
       "      <th>Destination</th>\n",
       "      <th>Route</th>\n",
       "      <th>Total_Stops</th>\n",
       "      <th>Additional_Info</th>\n",
       "      <th>Price</th>\n",
       "      <th>Months</th>\n",
       "      <th>Day</th>\n",
       "      <th>NewArrival_Time</th>\n",
       "      <th>NewDep_Time</th>\n",
       "      <th>Dep_Hours</th>\n",
       "      <th>Arrival_Hours</th>\n",
       "      <th>Hours</th>\n",
       "      <th>Minutes</th>\n",
       "      <th>New_Duration</th>\n",
       "    </tr>\n",
       "  </thead>\n",
       "  <tbody>\n",
       "    <tr>\n",
       "      <th>0</th>\n",
       "      <td>IndiGo</td>\n",
       "      <td>Banglore</td>\n",
       "      <td>New Delhi</td>\n",
       "      <td>BLR → DEL</td>\n",
       "      <td>non-stop</td>\n",
       "      <td>No info</td>\n",
       "      <td>3897</td>\n",
       "      <td>3</td>\n",
       "      <td>24</td>\n",
       "      <td>01:10:00</td>\n",
       "      <td>22:20:00</td>\n",
       "      <td>1340.0</td>\n",
       "      <td>70.0</td>\n",
       "      <td>2.0</td>\n",
       "      <td>50.0</td>\n",
       "      <td>170.0</td>\n",
       "    </tr>\n",
       "    <tr>\n",
       "      <th>1</th>\n",
       "      <td>Air India</td>\n",
       "      <td>Kolkata</td>\n",
       "      <td>Banglore</td>\n",
       "      <td>CCU → IXR → BBI → BLR</td>\n",
       "      <td>2 stops</td>\n",
       "      <td>No info</td>\n",
       "      <td>7662</td>\n",
       "      <td>1</td>\n",
       "      <td>5</td>\n",
       "      <td>13:15:00</td>\n",
       "      <td>05:50:00</td>\n",
       "      <td>350.0</td>\n",
       "      <td>795.0</td>\n",
       "      <td>7.0</td>\n",
       "      <td>25.0</td>\n",
       "      <td>445.0</td>\n",
       "    </tr>\n",
       "  </tbody>\n",
       "</table>\n",
       "</div>"
      ],
      "text/plain": [
       "     Airline    Source Destination                  Route Total_Stops  \\\n",
       "0     IndiGo  Banglore   New Delhi              BLR → DEL    non-stop   \n",
       "1  Air India   Kolkata    Banglore  CCU → IXR → BBI → BLR     2 stops   \n",
       "\n",
       "  Additional_Info  Price  Months  Day NewArrival_Time NewDep_Time  Dep_Hours  \\\n",
       "0         No info   3897       3   24        01:10:00    22:20:00     1340.0   \n",
       "1         No info   7662       1    5        13:15:00    05:50:00      350.0   \n",
       "\n",
       "   Arrival_Hours  Hours  Minutes  New_Duration  \n",
       "0           70.0    2.0     50.0         170.0  \n",
       "1          795.0    7.0     25.0         445.0  "
      ]
     },
     "execution_count": 25,
     "metadata": {},
     "output_type": "execute_result"
    }
   ],
   "source": [
    "df = df.drop(col, axis = 1)\n",
    "df.head(2)"
   ]
  },
  {
   "cell_type": "code",
   "execution_count": 26,
   "id": "849a0e24",
   "metadata": {},
   "outputs": [
    {
     "name": "stdout",
     "output_type": "stream",
     "text": [
      "<class 'pandas.core.frame.DataFrame'>\n",
      "Int64Index: 10267 entries, 0 to 10682\n",
      "Data columns (total 16 columns):\n",
      " #   Column           Non-Null Count  Dtype  \n",
      "---  ------           --------------  -----  \n",
      " 0   Airline          10267 non-null  object \n",
      " 1   Source           10267 non-null  object \n",
      " 2   Destination      10267 non-null  object \n",
      " 3   Route            10267 non-null  object \n",
      " 4   Total_Stops      10267 non-null  object \n",
      " 5   Additional_Info  10267 non-null  object \n",
      " 6   Price            10267 non-null  int64  \n",
      " 7   Months           10267 non-null  int32  \n",
      " 8   Day              10267 non-null  int32  \n",
      " 9   NewArrival_Time  10267 non-null  object \n",
      " 10  NewDep_Time      10267 non-null  object \n",
      " 11  Dep_Hours        10267 non-null  float64\n",
      " 12  Arrival_Hours    10267 non-null  float64\n",
      " 13  Hours            10267 non-null  float64\n",
      " 14  Minutes          10267 non-null  float64\n",
      " 15  New_Duration     10267 non-null  float64\n",
      "dtypes: float64(5), int32(2), int64(1), object(8)\n",
      "memory usage: 1.3+ MB\n"
     ]
    }
   ],
   "source": [
    "df.info()"
   ]
  },
  {
   "cell_type": "markdown",
   "id": "defef492",
   "metadata": {},
   "source": [
    "### Encodinng Categorical columns"
   ]
  },
  {
   "cell_type": "code",
   "execution_count": 27,
   "id": "a918c885",
   "metadata": {},
   "outputs": [],
   "source": [
    "le = LabelEncoder()"
   ]
  },
  {
   "cell_type": "code",
   "execution_count": 28,
   "id": "4b29d144",
   "metadata": {},
   "outputs": [],
   "source": [
    "df['Airline'] = le.fit_transform(df['Airline'])\n",
    "df['Source'] = le.fit_transform(df['Source'])\n",
    "df['Destination'] = le.fit_transform(df['Destination'])\n",
    "df['Route'] = le.fit_transform(df['Route'])\n",
    "df['Additional_Info'] = le.fit_transform(df['Additional_Info'])\n",
    "df['NewArrival_Time'] = le.fit_transform(df['NewArrival_Time'])\n",
    "df['NewDep_Time'] = le.fit_transform(df['NewDep_Time'])"
   ]
  },
  {
   "cell_type": "code",
   "execution_count": 30,
   "id": "55a1c9c4",
   "metadata": {},
   "outputs": [],
   "source": [
    "df['Total_Stops'] = le.fit_transform(df['Total_Stops'])"
   ]
  },
  {
   "cell_type": "code",
   "execution_count": 31,
   "id": "1b692f5e",
   "metadata": {},
   "outputs": [
    {
     "name": "stdout",
     "output_type": "stream",
     "text": [
      "<class 'pandas.core.frame.DataFrame'>\n",
      "Int64Index: 10267 entries, 0 to 10682\n",
      "Data columns (total 16 columns):\n",
      " #   Column           Non-Null Count  Dtype  \n",
      "---  ------           --------------  -----  \n",
      " 0   Airline          10267 non-null  int32  \n",
      " 1   Source           10267 non-null  int32  \n",
      " 2   Destination      10267 non-null  int32  \n",
      " 3   Route            10267 non-null  int32  \n",
      " 4   Total_Stops      10267 non-null  int32  \n",
      " 5   Additional_Info  10267 non-null  int32  \n",
      " 6   Price            10267 non-null  int64  \n",
      " 7   Months           10267 non-null  int32  \n",
      " 8   Day              10267 non-null  int32  \n",
      " 9   NewArrival_Time  10267 non-null  int32  \n",
      " 10  NewDep_Time      10267 non-null  int32  \n",
      " 11  Dep_Hours        10267 non-null  float64\n",
      " 12  Arrival_Hours    10267 non-null  float64\n",
      " 13  Hours            10267 non-null  float64\n",
      " 14  Minutes          10267 non-null  float64\n",
      " 15  New_Duration     10267 non-null  float64\n",
      "dtypes: float64(5), int32(10), int64(1)\n",
      "memory usage: 962.5 KB\n"
     ]
    }
   ],
   "source": [
    "df.info()"
   ]
  },
  {
   "cell_type": "markdown",
   "id": "e156cbb9",
   "metadata": {},
   "source": [
    "#### Columns are encoded"
   ]
  },
  {
   "cell_type": "markdown",
   "id": "eb677955",
   "metadata": {},
   "source": [
    "### Data distribution"
   ]
  },
  {
   "cell_type": "code",
   "execution_count": 32,
   "id": "f0027e79",
   "metadata": {
    "scrolled": true
   },
   "outputs": [
    {
     "name": "stdout",
     "output_type": "stream",
     "text": [
      "---------------------\n",
      "Distribution Plot :- \n",
      "---------------------\n"
     ]
    },
    {
     "data": {
      "image/png": "[encoded data removed]",
      "text/plain": [
       "<Figure size 1440x1080 with 16 Axes>"
      ]
     },
     "metadata": {
      "needs_background": "light"
     },
     "output_type": "display_data"
    }
   ],
   "source": [
    "print('---------------------')\n",
    "print('Distribution Plot :- ')\n",
    "print('---------------------')\n",
    "      \n",
    "plt.figure(figsize = (20,15))\n",
    "plotnumber = 1\n",
    "\n",
    "for column in df:\n",
    "    if plotnumber <=16:\n",
    "        ax = plt.subplot(4,4, plotnumber)\n",
    "        sns.distplot(df[column])\n",
    "        plt.xlabel(column)\n",
    "    plotnumber +=1\n",
    "plt.tight_layout()"
   ]
  },
  {
   "cell_type": "markdown",
   "id": "1e8829c5",
   "metadata": {},
   "source": [
    "#### Data distribution is fine"
   ]
  },
  {
   "cell_type": "markdown",
   "id": "430d0995",
   "metadata": {},
   "source": [
    "### Spliting Dataset into features and label"
   ]
  },
  {
   "cell_type": "code",
   "execution_count": 33,
   "id": "4ec968e0",
   "metadata": {},
   "outputs": [
    {
     "name": "stdout",
     "output_type": "stream",
     "text": [
      "Data has been splited\n"
     ]
    }
   ],
   "source": [
    "x = df.drop('Price', axis = 1)\n",
    "y = df. Price\n",
    "print('Data has been splited')"
   ]
  },
  {
   "cell_type": "markdown",
   "id": "46aba4d2",
   "metadata": {},
   "source": [
    "### Data Scaling"
   ]
  },
  {
   "cell_type": "code",
   "execution_count": 34,
   "id": "f561670e",
   "metadata": {},
   "outputs": [
    {
     "data": {
      "text/plain": [
       "array([[-4.18613688e-01, -1.63729319e+00,  2.39487913e+00, ...,\n",
       "        -9.47246060e-01,  1.34674268e+00, -9.12290527e-01],\n",
       "       [-1.26043266e+00,  8.74799840e-01, -9.70420339e-01, ...,\n",
       "        -3.42577058e-01, -4.22910364e-01, -3.55942283e-01],\n",
       "       [ 2.29579537e-03,  3.74354957e-02, -2.97360444e-01, ...,\n",
       "         1.10862855e+00, -6.89797554e-02,  1.11079400e+00],\n",
       "       ...,\n",
       "       [ 2.29579537e-03, -1.63729319e+00,  3.75699450e-01, ...,\n",
       "        -8.26312260e-01, -6.89797554e-02, -8.31367146e-01],\n",
       "       [ 2.52775270e+00, -1.63729319e+00,  2.39487913e+00, ...,\n",
       "        -9.47246060e-01,  6.38881463e-01, -9.32521372e-01],\n",
       "       [-1.26043266e+00,  3.74354957e-02, -2.97360444e-01, ...,\n",
       "        -2.21643257e-01, -7.76840974e-01, -2.44672634e-01]])"
      ]
     },
     "execution_count": 34,
     "metadata": {},
     "output_type": "execute_result"
    }
   ],
   "source": [
    "scaler = StandardScaler()\n",
    "x_scaled = scaler.fit_transform(x)\n",
    "x_scaled"
   ]
  },
  {
   "cell_type": "markdown",
   "id": "76346982",
   "metadata": {},
   "source": [
    "#### Data has been scaled"
   ]
  },
  {
   "cell_type": "markdown",
   "id": "bbd995a1",
   "metadata": {},
   "source": [
    "### Split data into train and test. Model will be bulit on training data and tested on test data"
   ]
  },
  {
   "cell_type": "code",
   "execution_count": 35,
   "id": "4a679045",
   "metadata": {},
   "outputs": [
    {
     "name": "stdout",
     "output_type": "stream",
     "text": [
      "Data has been splited.\n"
     ]
    }
   ],
   "source": [
    "x_train, x_test, y_train, y_test = train_test_split(x, y, test_size = 0.25, random_state = 355)\n",
    "print('Data has been splited.')"
   ]
  },
  {
   "cell_type": "markdown",
   "id": "9d1129f0",
   "metadata": {},
   "source": [
    "## Model Bulding"
   ]
  },
  {
   "cell_type": "markdown",
   "id": "bdf64221",
   "metadata": {},
   "source": [
    "### Decision Tree model instantiaing, training and evaluating"
   ]
  },
  {
   "cell_type": "code",
   "execution_count": 69,
   "id": "c9bafb70",
   "metadata": {},
   "outputs": [],
   "source": [
    "bag_dt = BaggingRegressor(DecisionTreeRegressor(), n_estimators = 50, max_samples = 0.5, bootstrap = True,\n",
    "                          random_state= 3, oob_score = True)"
   ]
  },
  {
   "cell_type": "code",
   "execution_count": 70,
   "id": "e2cd3602",
   "metadata": {},
   "outputs": [
    {
     "data": {
      "text/plain": [
       "True"
      ]
     },
     "execution_count": 70,
     "metadata": {},
     "output_type": "execute_result"
    }
   ],
   "source": [
    "bag_dt.oob_score"
   ]
  },
  {
   "cell_type": "code",
   "execution_count": 71,
   "id": "11949fff",
   "metadata": {},
   "outputs": [
    {
     "name": "stdout",
     "output_type": "stream",
     "text": [
      "Bagging DT score -------> 0.8569681026273173\n"
     ]
    }
   ],
   "source": [
    "bag_dt.fit(x_train, y_train)\n",
    "print('Bagging DT score ------->', bag_dt.score(x_test, y_test))"
   ]
  },
  {
   "cell_type": "code",
   "execution_count": 72,
   "id": "d6ddf3d3",
   "metadata": {},
   "outputs": [],
   "source": [
    "y_pred = bag_dt.predict(x_test)"
   ]
  },
  {
   "cell_type": "code",
   "execution_count": 73,
   "id": "e7e07ba5",
   "metadata": {},
   "outputs": [
    {
     "name": "stdout",
     "output_type": "stream",
     "text": [
      "=========================================================\n",
      "R2 Score -----> 0.8569681026273173\n",
      "=========================================================\n",
      "RMSE of Model -------> 1774.210733289188\n",
      "=========================================================\n",
      "MSE of Model -------> 3147823.726118558\n",
      "=========================================================\n",
      "Score of test data ----> 0.8569681026273173\n",
      "=========================================================\n"
     ]
    }
   ],
   "source": [
    "print('=========================================================')\n",
    "print('R2 Score ----->', r2_score(y_test, y_pred))\n",
    "print('=========================================================')\n",
    "print('RMSE of Model ------->', np.sqrt(mean_squared_error(y_test, y_pred)))\n",
    "print('=========================================================')\n",
    "print('MSE of Model ------->', mean_squared_error(y_test, y_pred))\n",
    "print('=========================================================')\n",
    "print('Score of test data ---->', bag_dt.score(x_test, y_test))\n",
    "print('=========================================================')"
   ]
  },
  {
   "cell_type": "markdown",
   "id": "334801ee",
   "metadata": {},
   "source": [
    "#### Conclusion : Decision Tree model has 85% score"
   ]
  },
  {
   "cell_type": "markdown",
   "id": "92b4df71",
   "metadata": {},
   "source": [
    "### XGBoost model instantiaing, training and evaluating"
   ]
  },
  {
   "cell_type": "code",
   "execution_count": 74,
   "id": "41743db3",
   "metadata": {},
   "outputs": [],
   "source": [
    "bag_xgb = BaggingRegressor(xgb.XGBRegressor(eval_metric = 'mlogloss'), n_estimators = 30, max_samples = 0.5, bootstrap = True,\n",
    "                          random_state= 3, oob_score = True)"
   ]
  },
  {
   "cell_type": "code",
   "execution_count": 75,
   "id": "41268d9b",
   "metadata": {},
   "outputs": [
    {
     "data": {
      "text/plain": [
       "True"
      ]
     },
     "execution_count": 75,
     "metadata": {},
     "output_type": "execute_result"
    }
   ],
   "source": [
    "bag_xgb.oob_score"
   ]
  },
  {
   "cell_type": "code",
   "execution_count": 76,
   "id": "9a8b2fbd",
   "metadata": {},
   "outputs": [
    {
     "name": "stdout",
     "output_type": "stream",
     "text": [
      "Bagging XGBoost score -------> 0.8778938096639761\n"
     ]
    }
   ],
   "source": [
    "bag_xgb.fit(x_train, y_train)\n",
    "print('Bagging XGBoost score ------->', bag_xgb.score(x_test, y_test))"
   ]
  },
  {
   "cell_type": "code",
   "execution_count": 77,
   "id": "fe821f2e",
   "metadata": {},
   "outputs": [],
   "source": [
    "y_pred = bag_xgb.predict(x_test)"
   ]
  },
  {
   "cell_type": "code",
   "execution_count": 78,
   "id": "7ed6fdf3",
   "metadata": {},
   "outputs": [
    {
     "name": "stdout",
     "output_type": "stream",
     "text": [
      "=========================================================\n",
      "R2 Score -----> 0.8778938096639761\n",
      "=========================================================\n",
      "RMSE of Model -------> 1639.2968077693845\n",
      "=========================================================\n",
      "MSE of Model -------> 2687294.0239628945\n",
      "=========================================================\n",
      "Score of test data ----> 0.8778938096639761\n",
      "=========================================================\n"
     ]
    }
   ],
   "source": [
    "print('=========================================================')\n",
    "print('R2 Score ----->', r2_score(y_test, y_pred))\n",
    "print('=========================================================')\n",
    "print('RMSE of Model ------->', np.sqrt(mean_squared_error(y_test, y_pred)))\n",
    "print('=========================================================')\n",
    "print('MSE of Model ------->', mean_squared_error(y_test, y_pred))\n",
    "print('=========================================================')\n",
    "print('Score of test data ---->', bag_xgb.score(x_test, y_test))\n",
    "print('=========================================================')"
   ]
  },
  {
   "cell_type": "markdown",
   "id": "119d2e98",
   "metadata": {},
   "source": [
    "#### Conclusion : XGBoost model has 87% score"
   ]
  },
  {
   "cell_type": "markdown",
   "id": "54c9d9de",
   "metadata": {},
   "source": [
    "### Knn model instantiaing, training and evaluating"
   ]
  },
  {
   "cell_type": "code",
   "execution_count": 79,
   "id": "55f0f886",
   "metadata": {},
   "outputs": [],
   "source": [
    "bag_Knn = BaggingRegressor(KNeighborsRegressor(n_neighbors = 5), n_estimators = 30, max_samples = 0.5, bootstrap = True,\n",
    "                          random_state= 3, oob_score = True)"
   ]
  },
  {
   "cell_type": "code",
   "execution_count": 80,
   "id": "7b429874",
   "metadata": {},
   "outputs": [
    {
     "data": {
      "text/plain": [
       "True"
      ]
     },
     "execution_count": 80,
     "metadata": {},
     "output_type": "execute_result"
    }
   ],
   "source": [
    "bag_Knn.oob_score"
   ]
  },
  {
   "cell_type": "code",
   "execution_count": 81,
   "id": "64da1778",
   "metadata": {},
   "outputs": [
    {
     "name": "stdout",
     "output_type": "stream",
     "text": [
      "Bagging KNN score -------> 0.5529532461895169\n"
     ]
    }
   ],
   "source": [
    "bag_Knn.fit(x_train, y_train)\n",
    "print('Bagging KNN score ------->', bag_Knn.score(x_test, y_test))"
   ]
  },
  {
   "cell_type": "code",
   "execution_count": 82,
   "id": "96d5a1db",
   "metadata": {},
   "outputs": [],
   "source": [
    "y_pred = bag_dt.predict(x_test)"
   ]
  },
  {
   "cell_type": "code",
   "execution_count": 83,
   "id": "6d4fde6f",
   "metadata": {},
   "outputs": [
    {
     "name": "stdout",
     "output_type": "stream",
     "text": [
      "=========================================================\n",
      "R2 Score -----> 0.8569681026273173\n",
      "=========================================================\n",
      "RMSE of Model -------> 1774.210733289188\n",
      "=========================================================\n",
      "MSE of Model -------> 3147823.726118558\n",
      "=========================================================\n",
      "Score of test data ----> 0.5529532461895169\n",
      "=========================================================\n"
     ]
    }
   ],
   "source": [
    "print('=========================================================')\n",
    "print('R2 Score ----->', r2_score(y_test, y_pred))\n",
    "print('=========================================================')\n",
    "print('RMSE of Model ------->', np.sqrt(mean_squared_error(y_test, y_pred)))\n",
    "print('=========================================================')\n",
    "print('MSE of Model ------->', mean_squared_error(y_test, y_pred))\n",
    "print('=========================================================')\n",
    "print('Score of test data ---->', bag_Knn.score(x_test, y_test))\n",
    "print('=========================================================')"
   ]
  },
  {
   "cell_type": "markdown",
   "id": "db5406b1",
   "metadata": {},
   "source": [
    "#### Conclusion : KNN model has 85% score"
   ]
  },
  {
   "cell_type": "markdown",
   "id": "a18cc666",
   "metadata": {},
   "source": [
    "### Random Forest model instantiaing, training and evaluating"
   ]
  },
  {
   "cell_type": "code",
   "execution_count": 84,
   "id": "4d19f75a",
   "metadata": {},
   "outputs": [],
   "source": [
    "bag_Rn = BaggingRegressor(RandomForestRegressor(), n_estimators = 50, max_samples = 0.5, bootstrap = True,\n",
    "                          random_state= 3, oob_score = True)"
   ]
  },
  {
   "cell_type": "code",
   "execution_count": 85,
   "id": "8c036d45",
   "metadata": {},
   "outputs": [
    {
     "data": {
      "text/plain": [
       "True"
      ]
     },
     "execution_count": 85,
     "metadata": {},
     "output_type": "execute_result"
    }
   ],
   "source": [
    "bag_Rn.oob_score"
   ]
  },
  {
   "cell_type": "code",
   "execution_count": 86,
   "id": "2e228820",
   "metadata": {},
   "outputs": [
    {
     "name": "stdout",
     "output_type": "stream",
     "text": [
      "Bagging Random Forest score -------> 0.8491420044591111\n"
     ]
    }
   ],
   "source": [
    "bag_Rn.fit(x_train, y_train)\n",
    "print('Bagging Random Forest score ------->', bag_Rn.score(x_test, y_test))"
   ]
  },
  {
   "cell_type": "code",
   "execution_count": 87,
   "id": "5aa1386f",
   "metadata": {},
   "outputs": [
    {
     "name": "stdout",
     "output_type": "stream",
     "text": [
      "=========================================================\n",
      "R2 Score -----> 0.8569681026273173\n",
      "=========================================================\n",
      "RMSE of Model -------> 1774.210733289188\n",
      "=========================================================\n",
      "MSE of Model -------> 3147823.726118558\n",
      "=========================================================\n",
      "Score of test data ----> 0.8491420044591111\n",
      "=========================================================\n"
     ]
    }
   ],
   "source": [
    "print('=========================================================')\n",
    "print('R2 Score ----->', r2_score(y_test, y_pred))\n",
    "print('=========================================================')\n",
    "print('RMSE of Model ------->', np.sqrt(mean_squared_error(y_test, y_pred)))\n",
    "print('=========================================================')\n",
    "print('MSE of Model ------->', mean_squared_error(y_test, y_pred))\n",
    "print('=========================================================')\n",
    "print('Score of test data ---->', bag_Rn.score(x_test, y_test))\n",
    "print('=========================================================')"
   ]
  },
  {
   "cell_type": "markdown",
   "id": "dd41ff5c",
   "metadata": {},
   "source": [
    "#### Conclusion : Random Forest model has 85% score"
   ]
  },
  {
   "cell_type": "markdown",
   "id": "8a398cd0",
   "metadata": {},
   "source": [
    "### Looking RMSE score we found XGBoost has best model so we do Hyperparameter Tuning on it."
   ]
  },
  {
   "cell_type": "code",
   "execution_count": 91,
   "id": "2e43210d",
   "metadata": {},
   "outputs": [],
   "source": [
    "param = {'n_estimators': [50,100], 'max_samples': [1.0], 'bootstrap': [True]}"
   ]
  },
  {
   "cell_type": "code",
   "execution_count": 92,
   "id": "fe452777",
   "metadata": {},
   "outputs": [],
   "source": [
    "grid_search = GridSearchCV(estimator = bag_xgb, param_grid = param, cv = 5 , n_jobs = -1)"
   ]
  },
  {
   "cell_type": "code",
   "execution_count": 93,
   "id": "034a0679",
   "metadata": {},
   "outputs": [
    {
     "data": {
      "text/plain": [
       "GridSearchCV(cv=5,\n",
       "             estimator=BaggingRegressor(base_estimator=XGBRegressor(base_score=None,\n",
       "                                                                    booster=None,\n",
       "                                                                    colsample_bylevel=None,\n",
       "                                                                    colsample_bynode=None,\n",
       "                                                                    colsample_bytree=None,\n",
       "                                                                    eval_metric='mlogloss',\n",
       "                                                                    gamma=None,\n",
       "                                                                    gpu_id=None,\n",
       "                                                                    importance_type='gain',\n",
       "                                                                    interaction_constraints=None,\n",
       "                                                                    learning_rate=None,\n",
       "                                                                    max_delta_step=None,\n",
       "                                                                    max_depth=None,\n",
       "                                                                    min_child_weight=None,\n",
       "                                                                    missing...\n",
       "                                                                    monotone_constraints=None,\n",
       "                                                                    n_estimators=100,\n",
       "                                                                    n_jobs=None,\n",
       "                                                                    num_parallel_tree=None,\n",
       "                                                                    random_state=None,\n",
       "                                                                    reg_alpha=None,\n",
       "                                                                    reg_lambda=None,\n",
       "                                                                    scale_pos_weight=None,\n",
       "                                                                    subsample=None,\n",
       "                                                                    tree_method=None,\n",
       "                                                                    validate_parameters=None,\n",
       "                                                                    verbosity=None),\n",
       "                                        max_samples=0.5, n_estimators=30,\n",
       "                                        oob_score=True, random_state=3),\n",
       "             n_jobs=-1,\n",
       "             param_grid={'bootstrap': [True], 'max_samples': [1.0],\n",
       "                         'n_estimators': [50, 100]})"
      ]
     },
     "execution_count": 93,
     "metadata": {},
     "output_type": "execute_result"
    }
   ],
   "source": [
    "grid_search.fit(x_train, y_train)"
   ]
  },
  {
   "cell_type": "code",
   "execution_count": 94,
   "id": "37416011",
   "metadata": {},
   "outputs": [
    {
     "name": "stdout",
     "output_type": "stream",
     "text": [
      "{'bootstrap': True, 'max_samples': 1.0, 'n_estimators': 100}\n"
     ]
    }
   ],
   "source": [
    "best_parameters = grid_search.best_params_\n",
    "print(best_parameters)"
   ]
  },
  {
   "cell_type": "code",
   "execution_count": 95,
   "id": "391fd095",
   "metadata": {},
   "outputs": [
    {
     "data": {
      "text/plain": [
       "0.8805171134539985"
      ]
     },
     "execution_count": 95,
     "metadata": {},
     "output_type": "execute_result"
    }
   ],
   "source": [
    "hxgb = BaggingRegressor(base_estimator=xgb.XGBRegressor(),max_samples = 1.0, bootstrap = True , n_estimators = 100)\n",
    "hxgb.fit(x_train, y_train)\n",
    "hxgb.score(x_test, y_test)"
   ]
  },
  {
   "cell_type": "code",
   "execution_count": 96,
   "id": "7358e5ae",
   "metadata": {},
   "outputs": [],
   "source": [
    "y_pred = hxgb.predict(x_test)"
   ]
  },
  {
   "cell_type": "code",
   "execution_count": 97,
   "id": "0f26d2ee",
   "metadata": {},
   "outputs": [
    {
     "name": "stdout",
     "output_type": "stream",
     "text": [
      "=========================================================\n",
      "R2 Score -----> 0.8805171134539985\n",
      "=========================================================\n",
      "RMSE of Model -------> 1621.592045682996\n",
      "=========================================================\n",
      "MSE of Model -------> 2629560.762622364\n",
      "=========================================================\n",
      "Score of test data ----> 0.8805171134539985\n",
      "=========================================================\n"
     ]
    }
   ],
   "source": [
    "print('=========================================================')\n",
    "print('R2 Score ----->', r2_score(y_test, y_pred))\n",
    "print('=========================================================')\n",
    "print('RMSE of Model ------->', np.sqrt(mean_squared_error(y_test, y_pred)))\n",
    "print('=========================================================')\n",
    "print('MSE of Model ------->', mean_squared_error(y_test, y_pred))\n",
    "print('=========================================================')\n",
    "print('Score of test data ---->', hxgb.score(x_test, y_test))\n",
    "print('=========================================================')"
   ]
  },
  {
   "cell_type": "markdown",
   "id": "dfa2c1e7",
   "metadata": {},
   "source": [
    "### Saving The Model"
   ]
  },
  {
   "cell_type": "code",
   "execution_count": 98,
   "id": "e19686d0",
   "metadata": {},
   "outputs": [],
   "source": [
    "# saving the model to the Local file system\n",
    "filename = 'Flight Price Prediction Train.pickle'\n",
    "pickle.dump(hxgb, open(filename, 'wb'))"
   ]
  },
  {
   "cell_type": "markdown",
   "id": "4a37afba",
   "metadata": {},
   "source": [
    "## Final Conclusion : XGBoost is our best model."
   ]
  },
  {
   "cell_type": "code",
   "execution_count": null,
   "id": "ddaad5d4",
   "metadata": {},
   "outputs": [],
   "source": []
  }
 ],
 "metadata": {
  "kernelspec": {
   "display_name": "Python 3",
   "language": "python",
   "name": "python3"
  },
  "language_info": {
   "codemirror_mode": {
    "name": "ipython",
    "version": 3
   },
   "file_extension": ".py",
   "mimetype": "text/x-python",
   "name": "python",
   "nbconvert_exporter": "python",
   "pygments_lexer": "ipython3",
   "version": "3.8.8"
  }
 },
 "nbformat": 4,
 "nbformat_minor": 5
}
